{
  "cells": [
    {
      "cell_type": "markdown",
      "metadata": {
        "id": "QfYvI-_yE10I"
      },
      "source": [
        "# Practical Python Programming for Biologists\n",
        "Author: Dr. Daniel Pass | www.CompassBioinformatics.com\n",
        "\n",
        "---"
      ]
    },
    {
      "cell_type": "markdown",
      "metadata": {
        "id": "rQ5nBszYVmZT"
      },
      "source": [
        "# Dictionaries\n",
        "\n",
        "A dictionary at first looks like a 2D list but is actually unique because all data is in unordered key-value pairs. They are particularly useful for finding the corresponding pair (like a real dictionary!) when you have one value for example:\n",
        "\n",
        "- ```geneID => sequence```\n",
        "- ```aminoAcid => frequency```\n",
        "- ```site => longitude/lattitude```\n",
        "\n",
        "This example dictionary has a frequency count of each base, where the first element in each pair is the \"key\" reference, and the second element is the \"value\".\n",
        "\n",
        "It's defined in the format of ```'key' : 'value'```, between braces ```{ }``` (curly brackets)"
      ]
    },
    {
      "cell_type": "code",
      "execution_count": 1,
      "metadata": {
        "colab": {
          "base_uri": "https://localhost:8080/"
        },
        "id": "rTmf-Cp8WHSi",
        "outputId": "e168a65b-9984-4eb5-e06d-c3ba82c1ffef"
      },
      "outputs": [
        {
          "output_type": "stream",
          "name": "stdout",
          "text": [
            "{'A': 101, 'T': 250, 'G': 125, 'C': 92}\n"
          ]
        }
      ],
      "source": [
        "# Create a dictionary of DNA base counts\n",
        "base_counts = {'A': 101, 'T': 250, 'G': 125, 'C': 92}\n",
        "print(base_counts)"
      ]
    },
    {
      "cell_type": "markdown",
      "metadata": {
        "id": "TcPDsdUA983R"
      },
      "source": [
        "We can use the square bracket method ```dictionary['key']``` to return the value of a dictionary key similar to using the index number for a list, however the .get() method is usually better because it handles missing data better. Note the difference:"
      ]
    },
    {
      "cell_type": "code",
      "execution_count": 5,
      "metadata": {
        "colab": {
          "base_uri": "https://localhost:8080/"
        },
        "id": "0l8VjX50983R",
        "outputId": "275068af-cbe6-4c72-831c-61f822446b35"
      },
      "outputs": [
        {
          "output_type": "stream",
          "name": "stdout",
          "text": [
            "Number of Thymine: 250 \n",
            " Number of Adenine: 101\n"
          ]
        }
      ],
      "source": [
        "print(\"Number of Thymine:\",  base_counts['T'],\"\\n Number of Adenine:\", base_counts['A'])"
      ]
    },
    {
      "cell_type": "code",
      "execution_count": 6,
      "metadata": {
        "colab": {
          "base_uri": "https://localhost:8080/",
          "height": 141
        },
        "id": "Y7NY-yZz983S",
        "outputId": "09218574-ca2c-4578-f73b-635be0273b48"
      },
      "outputs": [
        {
          "output_type": "error",
          "ename": "KeyError",
          "evalue": "'N'",
          "traceback": [
            "\u001b[0;31m---------------------------------------------------------------------------\u001b[0m",
            "\u001b[0;31mKeyError\u001b[0m                                  Traceback (most recent call last)",
            "\u001b[0;32m/tmp/ipython-input-1746410899.py\u001b[0m in \u001b[0;36m<cell line: 0>\u001b[0;34m()\u001b[0m\n\u001b[0;32m----> 1\u001b[0;31m \u001b[0mprint\u001b[0m\u001b[0;34m(\u001b[0m\u001b[0;34m\"Number of Unknowns:\"\u001b[0m\u001b[0;34m,\u001b[0m \u001b[0mbase_counts\u001b[0m\u001b[0;34m[\u001b[0m\u001b[0;34m'N'\u001b[0m\u001b[0;34m]\u001b[0m\u001b[0;34m)\u001b[0m\u001b[0;34m\u001b[0m\u001b[0;34m\u001b[0m\u001b[0m\n\u001b[0m",
            "\u001b[0;31mKeyError\u001b[0m: 'N'"
          ]
        }
      ],
      "source": [
        "print(\"Number of Unknowns:\", base_counts['N'])"
      ]
    },
    {
      "cell_type": "code",
      "execution_count": 8,
      "metadata": {
        "colab": {
          "base_uri": "https://localhost:8080/"
        },
        "id": "zw2Jlnsh983S",
        "outputId": "5c888496-d590-4852-9f6c-c5f8f0e278c6"
      },
      "outputs": [
        {
          "output_type": "stream",
          "name": "stdout",
          "text": [
            "Number of Unknowns: None\n",
            "Number of Uridine: None\n"
          ]
        }
      ],
      "source": [
        "print(\"Number of Unknowns:\", base_counts.get('N'))\n",
        "print(\"Number of Uridine:\", base_counts.get('U'))\n",
        "# .get wont break the code if key is not found in dictionary (so more stable way to do it)"
      ]
    },
    {
      "cell_type": "markdown",
      "metadata": {
        "id": "zr_0Evg3983T"
      },
      "source": [
        "First lets add some new pairs to the dictionary. This can be done two ways:"
      ]
    },
    {
      "cell_type": "code",
      "execution_count": null,
      "metadata": {
        "id": "dgQ5Twdi983U"
      },
      "outputs": [],
      "source": [
        "# Add a two new key-value pairs to the dictionary - two ways to do the same thing\n",
        "base_counts['N'] = 5\n",
        "base_counts.update({ 'MISSING' : 0 })\n",
        "\n",
        "print(base_counts)"
      ]
    },
    {
      "cell_type": "markdown",
      "metadata": {
        "id": "cw8OZ_CwWvxT"
      },
      "source": [
        "We can then access individual values based on their key just like looking them up in a dictionary, or modify/delete them:"
      ]
    },
    {
      "cell_type": "code",
      "execution_count": 10,
      "metadata": {
        "colab": {
          "base_uri": "https://localhost:8080/"
        },
        "id": "JMKJ30HtW07q",
        "outputId": "d4524ff4-6964-4940-f981-d07186960068"
      },
      "outputs": [
        {
          "output_type": "stream",
          "name": "stdout",
          "text": [
            "Number of Adenine: 101\n",
            "Number of Thymine: 250\n",
            "Number of Unknowns: 5\n",
            "{'A': 101, 'T': 250, 'G': 125, 'C': 92, 'N': 5, 'MISSING': 0}\n",
            "{'A': 65, 'T': 250, 'G': 125, 'C': 92, 'N': 5, 'MISSING': 0}\n",
            "Number of Adenine: 65\n",
            "{'A': 65, 'T': 250, 'G': 125, 'C': 92, 'N': 5}\n"
          ]
        }
      ],
      "source": [
        "base_counts = {'A': 101, 'T': 250, 'G': 125, 'C': 92, 'N': 5, 'MISSING': 0}\n",
        "\n",
        "# Print corresponding value (two methods)\n",
        "print(\"Number of Adenine:\", base_counts.get('A'))\n",
        "print(\"Number of Thymine:\", base_counts.get('T'))\n",
        "print(\"Number of Unknowns:\", base_counts.get('N'))\n",
        "print(base_counts)\n",
        "\n",
        "# Modify the value for a key\n",
        "base_counts['A'] = 65\n",
        "print(base_counts)\n",
        "print(\"Number of Adenine:\", base_counts.get('A'))\n",
        "\n",
        "# Remove the 'MISSING' key-value pair from the dictionary .pop\n",
        "base_counts.pop('MISSING')\n",
        "print(base_counts)"
      ]
    },
    {
      "cell_type": "code",
      "execution_count": 11,
      "metadata": {
        "colab": {
          "base_uri": "https://localhost:8080/"
        },
        "id": "ld-KGLal983V",
        "outputId": "5f7922b4-5745-4368-e078-a4d4a1e2c1f4"
      },
      "outputs": [
        {
          "output_type": "stream",
          "name": "stdout",
          "text": [
            "{'A': 65, 'G': 125, 'C': 92, 'N': 5}\n",
            "Number of Adenine: 65\n",
            "Number of Thymine: None\n",
            "Number of Unknowns: 5\n"
          ]
        }
      ],
      "source": [
        "# There is also the del statement (alternative to .pop)\n",
        "del base_counts['T']\n",
        "print(base_counts)\n",
        "\n",
        "# Print corresponding value (two methods)\n",
        "print(\"Number of Adenine:\", base_counts.get('A'))\n",
        "print(\"Number of Thymine:\", base_counts.get('T'))\n",
        "print(\"Number of Unknowns:\", base_counts.get('N'))"
      ]
    },
    {
      "cell_type": "markdown",
      "metadata": {
        "id": "grA7NYeZ983W"
      },
      "source": [
        "A useful set of methods are ```.keys()``` and ```.values()``` which return dict objects (just like when we made a range). They can be turned into a list using the ```list()``` function in the same way."
      ]
    },
    {
      "cell_type": "code",
      "execution_count": 12,
      "metadata": {
        "colab": {
          "base_uri": "https://localhost:8080/"
        },
        "id": "pJAEPSFW983W",
        "outputId": "64184a92-1043-4c24-b53d-63cdd9fb74fc"
      },
      "outputs": [
        {
          "output_type": "stream",
          "name": "stdout",
          "text": [
            "dict_values([65, 125, 92, 5])\n",
            "dict_keys(['A', 'G', 'C', 'N'])\n"
          ]
        }
      ],
      "source": [
        "# Print just the values\n",
        "print(base_counts.values())\n",
        "\n",
        "# Print just the keys\n",
        "print(base_counts.keys())"
      ]
    },
    {
      "cell_type": "markdown",
      "metadata": {
        "id": "Wcdsmaqr983X"
      },
      "source": [
        "We can also use the ```.items()``` method to return key:value pairs as a list of tuples. We'll return to this when we know how to run through loops of data"
      ]
    },
    {
      "cell_type": "code",
      "execution_count": null,
      "metadata": {
        "id": "NA5ylIoc983X"
      },
      "outputs": [],
      "source": [
        "# Print just the values\n",
        "print(base_counts)\n",
        "print(base_counts.items())"
      ]
    },
    {
      "cell_type": "markdown",
      "metadata": {
        "id": "77ZoGXd6983Y"
      },
      "source": [
        "### Dictionary exercise\n",
        "\n",
        "1. Create a dictionary named insects where keys are the common short names of insects and values are their Latin names using this data.\n",
        "- honeybee  - Apis mellifera\n",
        "- fruitfly  - Drosophila melanogaster\n",
        "- butterfly - Papilio machaon\n",
        "- ladybird  - Coccinella septempunctata\n",
        "- fireant   - Solenopsis invicta\n",
        "\n",
        "2. Add a new insect to the insects dictionary with Mosquito & Culex pipiens\n",
        "3. Actually we have incorrectly identified the bee! Modify the honeybee to Apis cerana\n",
        "4. Print the list of latin names as a dict_list, and how many sepecies are in the dictionary"
      ]
    },
    {
      "cell_type": "code",
      "execution_count": 27,
      "metadata": {
        "colab": {
          "base_uri": "https://localhost:8080/"
        },
        "id": "YdHIiXYV983Y",
        "outputId": "9b448ad9-1e9d-44e4-a349-bc20f8113120"
      },
      "outputs": [
        {
          "output_type": "stream",
          "name": "stdout",
          "text": [
            "{'Honeybee': '🐝 Apis mellifera', 'Fruitfly': 'Drosophila melanogaster', 'Ladybird ': 'Coccinella septempunctata', 'Fireant': 'Solenopsis invicta'}\n",
            "{'Honeybee': '🐝 Apis mellifera', 'Fruitfly': 'Drosophila melanogaster', 'Ladybird ': 'Coccinella septempunctata', 'Fireant': 'Solenopsis invicta', 'Mosquito': 'Culex pipiens'}\n",
            "{'Honeybee': '🐝 Apis mellifera', 'Fruitfly': 'Drosophila melanogaster', 'Ladybird ': 'Coccinella septempunctata', 'Fireant': 'Solenopsis invicta', 'Mosquito': 'Culex pipiens', 'Meanie wasp': 'Vespa'}\n",
            "{'Honeybee': '🐝 Apis cerana', 'Fruitfly': 'Drosophila melanogaster', 'Ladybird ': 'Coccinella septempunctata', 'Fireant': 'Solenopsis invicta', 'Mosquito': 'Culex pipiens', 'Meanie wasp': 'Vespa'}\n",
            "dict_values(['🐝 Apis cerana', 'Drosophila melanogaster', 'Coccinella septempunctata', 'Solenopsis invicta', 'Culex pipiens', 'Vespa'])\n",
            "6\n"
          ]
        }
      ],
      "source": [
        "# Create a dictionary of bugs\n",
        "insects = {'Honeybee': '\\U0001F41D Apis mellifera', 'Fruitfly': 'Drosophila melanogaster', 'Ladybird ': 'Coccinella septempunctata', 'Fireant': 'Solenopsis invicta'}\n",
        "print(insects)\n",
        "\n",
        "#add a new bug\n",
        "insects['Mosquito'] = 'Culex pipiens'\n",
        "print(insects)\n",
        "\n",
        "insects.update({ 'Meanie wasp' : 'Vespa' })\n",
        "print(insects)\n",
        "\n",
        "#omg wrong bee\n",
        "insects['Honeybee'] = '\\U0001F41D Apis cerana'\n",
        "print(insects)\n",
        "\n",
        "# Print just the latin names and how many\n",
        "print(insects.values())\n",
        "print(len(insects.values()))\n",
        "\n",
        "\n"
      ]
    },
    {
      "cell_type": "code",
      "execution_count": null,
      "metadata": {
        "outputId": "64184a92-1043-4c24-b53d-63cdd9fb74fc",
        "colab": {
          "base_uri": "https://localhost:8080/"
        },
        "id": "gMb4QsKjDPgZ"
      },
      "outputs": [
        {
          "output_type": "stream",
          "name": "stdout",
          "text": [
            "dict_values([65, 125, 92, 5])\n",
            "dict_keys(['A', 'G', 'C', 'N'])\n"
          ]
        }
      ],
      "source": []
    },
    {
      "cell_type": "markdown",
      "metadata": {
        "id": "KsVBxlMZXqI7"
      },
      "source": [
        "---\n",
        "#### Dictionary Example\n",
        "Dictionaries are really important and powerful. Lets look at another example where we can attach specific information to geneIDs, and use the ```.get``` method to search the dictionary.\n",
        "\n",
        "Here we can combine a gene sequence dictionary with our 2D list exercise from earlier"
      ]
    },
    {
      "cell_type": "code",
      "execution_count": 28,
      "metadata": {
        "colab": {
          "base_uri": "https://localhost:8080/"
        },
        "id": "O8UFUTAvXucr",
        "outputId": "751abd82-bcbd-4e81-f148-22306b291e22"
      },
      "outputs": [
        {
          "output_type": "stream",
          "name": "stdout",
          "text": [
            "TP53\n",
            "0.4\n"
          ]
        }
      ],
      "source": [
        "## The data\n",
        "\n",
        "# Dictionary of gene names and sequences\n",
        "gene_dict = {'BRCA1': 'ATGTTGTCATCGTTGAGCTTTGCTTCCT',\n",
        "             'TP53': 'ATGGAGGAGCCGCAGTCAGATC',\n",
        "             'EGFR': 'ATGACCATCCAAGATGATGGTGTC',\n",
        "             'KRAS': 'ATGACTGAATATAAACTTGTGGTAG',\n",
        "             'BRAF': 'ATGGTCCAGCTTGGACCCACTCC',\n",
        "             'ALK': 'ATGAAGGAGCCCTCAGATTTCTTG',\n",
        "             'RET': 'ATGGGTGGGTTGTCGGAAGATCTT',\n",
        "             'ROS1': 'ATGAGCCACCCAGGTCCCTGTAGT',\n",
        "             'MET1': 'ATGGCTTCAAGCTGTTGTCGTGAAGA'}\n",
        "\n",
        "# gene confidence values\n",
        "gene_confs = [[0.92, 'MET1', 2205], [0.82, 'EGFR', 1567], [0.93, 'KRAS', 6523], [0.4, 'TP53', 5002], [0.94, 'ROS5', 1999], [0.87, 'BRCA1', 2323]]\n",
        "\n",
        "# sort and get lowest conf gene ID\n",
        "gene_confs.sort()\n",
        "lowest_gene_conf = gene_confs[0][0]\n",
        "lowest_gene_ID = gene_confs[0][1]\n",
        "\n",
        "print(lowest_gene_ID)\n",
        "print(lowest_gene_conf)"
      ]
    },
    {
      "cell_type": "markdown",
      "metadata": {
        "id": "NLclYwK4983c"
      },
      "source": [
        "We don't need to type the exact gene name. we can use the variable as the key:"
      ]
    },
    {
      "cell_type": "code",
      "execution_count": 29,
      "metadata": {
        "colab": {
          "base_uri": "https://localhost:8080/"
        },
        "id": "3lrZgwlh983c",
        "outputId": "1643c594-4883-4998-fc8c-bf5ad1d9996a"
      },
      "outputs": [
        {
          "output_type": "stream",
          "name": "stdout",
          "text": [
            "ATGGAGGAGCCGCAGTCAGATC\n",
            "Gene sequence for TP53 (Confidence value: 0.4) is: ATGGAGGAGCCGCAGTCAGATC\n"
          ]
        }
      ],
      "source": [
        "# Search dictionary keys for that ID\n",
        "print(gene_dict.get(lowest_gene_ID))\n",
        "\n",
        "# easier to read!\n",
        "print(\"Gene sequence for\", lowest_gene_ID, \"(Confidence value:\", str(lowest_gene_conf) + \") is:\",  gene_dict.get(lowest_gene_ID))"
      ]
    },
    {
      "cell_type": "markdown",
      "metadata": {
        "id": "z8kLcp7D983d"
      },
      "source": [
        "Lets continue our example from 2D lists and remove the three lowest genes from our dictionary:"
      ]
    },
    {
      "cell_type": "code",
      "execution_count": 30,
      "metadata": {
        "colab": {
          "base_uri": "https://localhost:8080/"
        },
        "id": "jA5MCmWZTGIp",
        "outputId": "e5f9b441-c403-4810-84c5-685aefa52d45"
      },
      "outputs": [
        {
          "output_type": "stream",
          "name": "stdout",
          "text": [
            "gene_dict contains 9 genes\n",
            "gene_dict contains 6 genes\n"
          ]
        }
      ],
      "source": [
        "print(\"gene_dict contains\", len(gene_dict), \"genes\")\n",
        "gene_dict.pop(\"EGFR\")\n",
        "gene_dict.pop(\"TP53\")\n",
        "gene_dict.pop(\"BRCA1\")\n",
        "print(\"gene_dict contains\", len(gene_dict), \"genes\")"
      ]
    },
    {
      "cell_type": "markdown",
      "metadata": {
        "id": "2-4AuHdaT1Xk"
      },
      "source": [
        "Actually, even better idea! Instead of just throwing the data out, lets put the DNA sequences of the lowest three genes from the dictionary into a new list called ```bad_genes``` before they get discarded.\n",
        "\n",
        "Note, what happens if you run this code immediately? Read the error and identify what is wrong."
      ]
    },
    {
      "cell_type": "code",
      "execution_count": 31,
      "metadata": {
        "colab": {
          "base_uri": "https://localhost:8080/",
          "height": 228
        },
        "id": "2JQbjR594Ob2",
        "outputId": "8e24f2ee-ad28-4e6e-bd27-25f3427159cf"
      },
      "outputs": [
        {
          "output_type": "stream",
          "name": "stdout",
          "text": [
            "gene_dict contains 6 genes\n"
          ]
        },
        {
          "output_type": "error",
          "ename": "KeyError",
          "evalue": "'EGFR'",
          "traceback": [
            "\u001b[0;31m---------------------------------------------------------------------------\u001b[0m",
            "\u001b[0;31mKeyError\u001b[0m                                  Traceback (most recent call last)",
            "\u001b[0;32m/tmp/ipython-input-206276906.py\u001b[0m in \u001b[0;36m<cell line: 0>\u001b[0;34m()\u001b[0m\n\u001b[1;32m      2\u001b[0m \u001b[0;34m\u001b[0m\u001b[0m\n\u001b[1;32m      3\u001b[0m \u001b[0mprint\u001b[0m\u001b[0;34m(\u001b[0m\u001b[0;34m\"gene_dict contains\"\u001b[0m\u001b[0;34m,\u001b[0m \u001b[0mlen\u001b[0m\u001b[0;34m(\u001b[0m\u001b[0mgene_dict\u001b[0m\u001b[0;34m)\u001b[0m\u001b[0;34m,\u001b[0m \u001b[0;34m\"genes\"\u001b[0m\u001b[0;34m)\u001b[0m\u001b[0;34m\u001b[0m\u001b[0;34m\u001b[0m\u001b[0m\n\u001b[0;32m----> 4\u001b[0;31m \u001b[0mbad_genes\u001b[0m\u001b[0;34m.\u001b[0m\u001b[0mappend\u001b[0m\u001b[0;34m(\u001b[0m\u001b[0mgene_dict\u001b[0m\u001b[0;34m.\u001b[0m\u001b[0mpop\u001b[0m\u001b[0;34m(\u001b[0m\u001b[0;34m\"EGFR\"\u001b[0m\u001b[0;34m)\u001b[0m\u001b[0;34m)\u001b[0m\u001b[0;34m\u001b[0m\u001b[0;34m\u001b[0m\u001b[0m\n\u001b[0m\u001b[1;32m      5\u001b[0m \u001b[0mbad_genes\u001b[0m\u001b[0;34m.\u001b[0m\u001b[0mappend\u001b[0m\u001b[0;34m(\u001b[0m\u001b[0mgene_dict\u001b[0m\u001b[0;34m.\u001b[0m\u001b[0mpop\u001b[0m\u001b[0;34m(\u001b[0m\u001b[0;34m\"TP53\"\u001b[0m\u001b[0;34m)\u001b[0m\u001b[0;34m)\u001b[0m\u001b[0;34m\u001b[0m\u001b[0;34m\u001b[0m\u001b[0m\n\u001b[1;32m      6\u001b[0m \u001b[0mbad_genes\u001b[0m\u001b[0;34m.\u001b[0m\u001b[0mappend\u001b[0m\u001b[0;34m(\u001b[0m\u001b[0mgene_dict\u001b[0m\u001b[0;34m.\u001b[0m\u001b[0mpop\u001b[0m\u001b[0;34m(\u001b[0m\u001b[0;34m\"BRCA1\"\u001b[0m\u001b[0;34m)\u001b[0m\u001b[0;34m)\u001b[0m\u001b[0;34m\u001b[0m\u001b[0;34m\u001b[0m\u001b[0m\n",
            "\u001b[0;31mKeyError\u001b[0m: 'EGFR'"
          ]
        }
      ],
      "source": [
        "bad_genes = []\n",
        "\n",
        "print(\"gene_dict contains\", len(gene_dict), \"genes\")\n",
        "bad_genes.append(gene_dict.pop(\"EGFR\"))\n",
        "bad_genes.append(gene_dict.pop(\"TP53\"))\n",
        "bad_genes.append(gene_dict.pop(\"BRCA1\"))\n",
        "print(\"gene_dict contains\", len(gene_dict), \"genes\")"
      ]
    },
    {
      "cell_type": "code",
      "execution_count": null,
      "metadata": {
        "id": "vfJfdHKn4SCZ"
      },
      "outputs": [],
      "source": [
        "print(bad_genes)\n",
        "print(gene_dict)"
      ]
    },
    {
      "cell_type": "markdown",
      "metadata": {
        "id": "QKAudoMCYk2t"
      },
      "source": [
        "Dictionaries and lists are powerful ways to handle data and often involve going between the two. There are also lots of powerful methods to search throughnot just the keys, but also the values to find relevant keys which can be very useful but first we need to learn a bit about loops and conditionals!"
      ]
    },
    {
      "cell_type": "markdown",
      "metadata": {
        "id": "xKbU1nRZkgP5"
      },
      "source": [
        "## Exercises\n",
        "\n",
        "1. Create a dictionary of bacteria and confluence values (growth) using the data:\n",
        "\n",
        "```\n",
        "[\"E. coli\", \"S. aureus\", \"P. aeruginosa\", \"K. pneumoniae\", \"A. baumannii\"]\n",
        "[60, 82, 75, 91, 70]\n",
        "```\n",
        "2. Print the confluence value of *K. pneumoniae* from the dictionary\n",
        "3. A function we haven't used yet is ```sum()```, but it works just like ```len()```. Use both of these to calculate the average confluence of all the samples in the dictionary (what's the easiest way to get all the values?)\n",
        "4. Oops! We just found another sample! Add ```{L. Beijerinick : 65}``` to the dictionary.\n",
        "5. Print the species name with the highest growth."
      ]
    },
    {
      "cell_type": "code",
      "execution_count": 41,
      "metadata": {
        "id": "8JOxai9ZlReC",
        "colab": {
          "base_uri": "https://localhost:8080/"
        },
        "outputId": "a6aa6a49-4668-487a-87dc-2d2db2d7658e"
      },
      "outputs": [
        {
          "output_type": "stream",
          "name": "stdout",
          "text": [
            "Confluence of K penumoniae: 91\n",
            "The average confluence is 75.6\n",
            "{'E. coli': 60, 'S.aureus': 82, 'P.aerugionosa': 75, 'K.pneumoniae': 91, 'A.baumannii': 70, 'ML. Beijernick': '65'}\n"
          ]
        }
      ],
      "source": [
        "# make the dictionary\n",
        "bacteria_dict = {\"E. coli\": 60, \"S.aureus\":82, \"P.aerugionosa\":75, \"K.pneumoniae\":91, \"A.baumannii\":70}\n",
        "print(\"Confluence of K penumoniae:\", bacteria_dict.get('K.pneumoniae'))\n",
        "\n",
        "total = sum(bacteria_dict.values())\n",
        "number = len(bacteria_dict)\n",
        "average = total / number\n",
        "\n",
        "print(\"The average confluence is\", average)\n",
        "\n",
        "bacteria_dict.update ({ 'L. Beijernick' : '65' })\n",
        "print (bacteria_dict)\n",
        "\n",
        "#not poss to identify max without loop?\n",
        "\n"
      ]
    },
    {
      "cell_type": "code",
      "source": [
        "#makedictionaryusingzip\n",
        "\n",
        "bacteria_names = [\"E. coli\", \"S. aureus\", \"P. aeruginosa\", \"K. pneumoniae\", \"A. baumannii\"]\n",
        "confluences = [60, 82, 75, 91, 70]\n",
        "\n",
        "bacteria_dict_2 = dict(zip(bacteria_names, confluences))\n",
        "\n",
        "print(bacteria_dict_2)\n",
        "\n",
        "bacteria_dict_2.update({\"S.lugdunensis\" :54})\n",
        "print(bacteria_dict_2)\n",
        "\n",
        "bacteria_dict_2.update({\"S.lugdunensis\" :64})\n",
        "print(bacteria_dict_2)\n",
        "\n",
        "resistant_bugs = {}\n",
        "\n",
        "resistant_bugs.update(bacteria_dict_2.pop(\"S. aureus\"))\n",
        "print(bacteria_dict_2)\n",
        "print(resistant_bugs)"
      ],
      "metadata": {
        "id": "NUtYkDPnJGMf",
        "outputId": "3e89e6b4-925b-4cc0-a372-6756bd7f68c7",
        "colab": {
          "base_uri": "https://localhost:8080/",
          "height": 283
        }
      },
      "execution_count": 48,
      "outputs": [
        {
          "output_type": "stream",
          "name": "stdout",
          "text": [
            "{'E. coli': 60, 'S. aureus': 82, 'P. aeruginosa': 75, 'K. pneumoniae': 91, 'A. baumannii': 70}\n",
            "{'E. coli': 60, 'S. aureus': 82, 'P. aeruginosa': 75, 'K. pneumoniae': 91, 'A. baumannii': 70, 'S.lugdunensis': 54}\n",
            "{'E. coli': 60, 'S. aureus': 82, 'P. aeruginosa': 75, 'K. pneumoniae': 91, 'A. baumannii': 70, 'S.lugdunensis': 64}\n"
          ]
        },
        {
          "output_type": "error",
          "ename": "TypeError",
          "evalue": "'int' object is not iterable",
          "traceback": [
            "\u001b[0;31m---------------------------------------------------------------------------\u001b[0m",
            "\u001b[0;31mTypeError\u001b[0m                                 Traceback (most recent call last)",
            "\u001b[0;32m/tmp/ipython-input-2616563635.py\u001b[0m in \u001b[0;36m<cell line: 0>\u001b[0;34m()\u001b[0m\n\u001b[1;32m     16\u001b[0m \u001b[0mresistant_bugs\u001b[0m \u001b[0;34m=\u001b[0m \u001b[0;34m{\u001b[0m\u001b[0;34m}\u001b[0m\u001b[0;34m\u001b[0m\u001b[0;34m\u001b[0m\u001b[0m\n\u001b[1;32m     17\u001b[0m \u001b[0;34m\u001b[0m\u001b[0m\n\u001b[0;32m---> 18\u001b[0;31m \u001b[0mresistant_bugs\u001b[0m\u001b[0;34m.\u001b[0m\u001b[0mupdate\u001b[0m\u001b[0;34m(\u001b[0m\u001b[0mbacteria_dict_2\u001b[0m\u001b[0;34m.\u001b[0m\u001b[0mpop\u001b[0m\u001b[0;34m(\u001b[0m\u001b[0;34m\"S. aureus\"\u001b[0m\u001b[0;34m)\u001b[0m\u001b[0;34m)\u001b[0m\u001b[0;34m\u001b[0m\u001b[0;34m\u001b[0m\u001b[0m\n\u001b[0m\u001b[1;32m     19\u001b[0m \u001b[0mprint\u001b[0m\u001b[0;34m(\u001b[0m\u001b[0mbacteria_dict_2\u001b[0m\u001b[0;34m)\u001b[0m\u001b[0;34m\u001b[0m\u001b[0;34m\u001b[0m\u001b[0m\n\u001b[1;32m     20\u001b[0m \u001b[0mprint\u001b[0m\u001b[0;34m(\u001b[0m\u001b[0mresistant_bugs\u001b[0m\u001b[0;34m)\u001b[0m\u001b[0;34m\u001b[0m\u001b[0;34m\u001b[0m\u001b[0m\n",
            "\u001b[0;31mTypeError\u001b[0m: 'int' object is not iterable"
          ]
        }
      ]
    },
    {
      "cell_type": "code",
      "source": [],
      "metadata": {
        "id": "gjD1SZj2Uqg1"
      },
      "execution_count": null,
      "outputs": []
    }
  ],
  "metadata": {
    "colab": {
      "provenance": [],
      "toc_visible": true
    },
    "kernelspec": {
      "display_name": "Python 3",
      "name": "python3"
    },
    "language_info": {
      "codemirror_mode": {
        "name": "ipython",
        "version": 3
      },
      "file_extension": ".py",
      "mimetype": "text/x-python",
      "name": "python",
      "nbconvert_exporter": "python",
      "pygments_lexer": "ipython3",
      "version": "3.11.5"
    }
  },
  "nbformat": 4,
  "nbformat_minor": 0
}