{
  "cells": [
    {
      "cell_type": "markdown",
      "metadata": {
        "id": "ELLkNgCz2-dB"
      },
      "source": [
        "# Practical Python Programming for Biologists\n",
        "Author, Dr. Daniel Pass | www.CompassBioinformatics.com\n",
        "\n",
        "---"
      ]
    },
    {
      "cell_type": "markdown",
      "metadata": {
        "id": "UbYwA7riL9Lr"
      },
      "source": [
        "#  Day 1 Project Challenge\n",
        "\n",
        "We have been investigating the upstream sequence region of P2X1 and have data on Transcription Factor Binding Sites. I want you to write code to analyse the data collected and automatically output some interpretation in easy to read format (ready for a non-computer prof. to understand!).\n",
        "\n",
        "You have been given the following data,\n",
        "- A region of DNA that we're investigating\n",
        "- A list of binding sites with their sequence and position of their first base\n",
        "- A 2D list of binding sequence motifs and their frequency\n",
        "\n",
        "There are infinite different ways to answer these questions and no true correct answer. Think about the approaches you might try first in normal languange, and then think how you would achive it with python. Take your time, this is a big collection of chalenges that should take 30+ minutes!\n",
        "\n",
        "#### Objectives\n",
        "1. Calculate the length of the region being studied and total AT% (AT regions are often associated with binding sites)\n",
        "2. Divide the region into three equal sections and report if AT% is different between them\n",
        "3. Print the DNA sequence of the given experimental binding motifs above the actual binding section from the long sequence region so that it looks like i.e.:\n",
        "\n",
        "    ```\n",
        "    TFBS1\n",
        "    ACTGA\n",
        "    ACAGA\n",
        "    ```\n",
        "\n",
        "    - Note: Use the position number to output the sequence of the region +/- 5bp: If the position is 100 and the motif is 5 bases long output bases: 95-[motif length=5]-110\n",
        "    - Extension: Include the surrounding section too, aiming for a format like this:\n",
        "    \n",
        "          TFBS1\n",
        "          -----XXXXX-----\n",
        "          ACTGAXXXXXATCGA\n",
        "\n",
        "Extensions:\n",
        "- Make a bar chart showing frequency of in silico predictions - You can copy the barchart code from the introduction session to start\n",
        "  - Should all in the list be represented? Maybe remove one?\n",
        "\n",
        "---\n",
        "\n",
        "Tips,\n",
        "- Work on getting the outputs first. Make it look attractive second!\n",
        "- Using regular `print()` statements can help understand what's happening\n",
        "- Don't forget about the zip and unzip functions\n",
        "- This may be a useful graph parameter, ```plt.xticks(rotation=90)```!\n",
        "- Some commands are repeatative. We will solve this with loops in the next sessions but for now it is good to practice!\n"
      ]
    },
    {
      "cell_type": "markdown",
      "metadata": {
        "id": "cwMhl6maOQoz"
      },
      "source": [
        "### Example of an upstream promotor region, with highlighted motifs (not your gene!)"
      ]
    },
    {
      "cell_type": "markdown",
      "metadata": {
        "id": "eDfvz_-irDsH"
      },
      "source": [
        "![promotor.png](attachment:promotor.png)"
      ]
    },
    {
      "cell_type": "markdown",
      "metadata": {
        "id": "lp1qxWYfXoF0"
      },
      "source": [
        "Upstream DNA region of interest"
      ]
    },
    {
      "cell_type": "code",
      "execution_count": 1,
      "metadata": {
        "id": "qGc5pWZFL50i",
        "outputId": "8eb7c912-9f48-4ce6-d9ec-e08eed2a70e3",
        "colab": {
          "base_uri": "https://localhost:8080/",
          "height": 106
        }
      },
      "outputs": [
        {
          "output_type": "error",
          "ename": "SyntaxError",
          "evalue": "invalid syntax (ipython-input-44154651.py, line 1)",
          "traceback": [
            "\u001b[0;36m  File \u001b[0;32m\"/tmp/ipython-input-44154651.py\"\u001b[0;36m, line \u001b[0;32m1\u001b[0m\n\u001b[0;31m    >ref|NC_000008.11|,11670718-11670917 Homo sapiens chromosome 8, GRCh38.p14 Primary Assembly\u001b[0m\n\u001b[0m    ^\u001b[0m\n\u001b[0;31mSyntaxError\u001b[0m\u001b[0;31m:\u001b[0m invalid syntax\n"
          ]
        }
      ],
      "source": [
        ">ref|NC_000008.11|,11670718-11670917 Homo sapiens chromosome 8, GRCh38.p14 Primary Assembly\n",
        "AATTATTTACTTAGCTAGGAGTGTGAGCTTGAGGGCGGGTCTAATGAGTAGGTCAGAGTCAG\n",
        "CCTGGCACAGCAAGAATGAAATAATTTTTTTTTTGAGATAAGGTCTTGCTCTGCCACCCAGG\n",
        "CAATGGTGTGATCATAGGTCACTGTAACCTCAAACTCTTGGGCTCAAGTGATCCTCCTGCAT\n",
        "AGTTGGTATTACTTAGCTAGGAGTGTGAGCTTGAGGGCGGGTCTAATGAGTAGGTCAGAGTC\n",
        "CCTGGCACAGCAAGAATGAAATAATTTTTTTTGAGATAAGGTCTTGCTCTGCCACCCAGGAT\n",
        "GGAGTGCAATGGTGTGATCATAGGTCACTGTAACCTCAAACTCTTGGGCTCAAGTGATCCTC\n",
        "CTGCGTTGGTATTACTTAGCTAGGAGTGTGAGCTTGAGGGCGGGTTTTTTTTGAGATAAGGT\n",
        "CTTGCTCTGCCACCCAGGATGGAGTGCAATGGTGTGATCATAGGTCACTGTAACCTCAAACT\n",
        "CTTGGGCTCAAGTGATCCTCCTGC\n"
      ]
    },
    {
      "cell_type": "markdown",
      "metadata": {
        "id": "WfxxwxAhXrnS"
      },
      "source": [
        "## Input Data"
      ]
    },
    {
      "cell_type": "code",
      "execution_count": 10,
      "metadata": {
        "id": "MtKehWIXQpzL"
      },
      "outputs": [],
      "source": [
        "# Upstrem region of interest (as a string)\n",
        "region_raw = \"AATTATTTACTTAGCTAGGAGTGTGAGCTTGAGGGCGGGTCTAATGAGTAGGTCAGAGTCAGCCTGGCACAGCAAGAATGAAATAATTTTTTTTTTGAGATAAGGTCTTGCTCTGCCACCCAGGCAATGGTGTGATCATAGGTCACTGTAACCTCAAACTCTTGGGCTCAAGTGATCCTCCTGCATAGTTGGTATTACTTAGCTAGGAGTGTGAGCTTGAGGGCGGGTCTAATGAGTAGGTCAGAGTCCCTGGCACAGCAAGAATGAAATAATTTTTTTTGAGATAAGGTCTTGCTCTGCCACCCAGGATGGAGTGCAATGGTGTGATCATAGGTCACTGTAACCTCAAACTCTTGGGCTCAAGTGATCCTCCTGCGTTGGTATTACTTAGCTAGGAGTGTGAGCCGGAGGGCGGGTTTTTTTTGAGACAAGGTCTTGCCCCGCCACCCAGGAGGGAGTGCGCTGGTGTGATCATAGGTCACTGTAACCTCAAACTCTTGGGCTCGCGTGATCCCCCGGC\"\n",
        "\n",
        "region = region_raw.replace(\"\\n\",\"\")\n",
        "\n",
        "# The list of binding motifs confirmed by your CHIPSeq experiment and first base binding in region\n",
        "TFBS_experimental = [\"AGGTC\", \"TGATT\", \"GGTCT\"]\n",
        "confirmed_binding_sites = [139, 468, 225]\n",
        "\n",
        "# Sequence motifs found in the region, and frequency\n",
        "in_silico_sites = [('AATGA', 4), ('CATAG', 4), ('GGAGT', 5), ('GAGTG', 5), ('GGTCT', 5), ('TAGGT', 5), ('GGTCA', 5), ('GTGTG', 6), ('TGTGA', 6), ('TTGAG', 6), ('TCTTG', 6), ('GTGAT', 6), ('TGATC', 6), ('CTCAA', 6), ('AGGTC', 8), ('TTTTT', 14)]\n"
      ]
    },
    {
      "cell_type": "code",
      "execution_count": 22,
      "metadata": {
        "id": "Z9w33vx7Ptk7",
        "outputId": "2c8e68d5-2cb7-435f-ce20-6d193841e106",
        "colab": {
          "base_uri": "https://localhost:8080/"
        }
      },
      "outputs": [
        {
          "output_type": "stream",
          "name": "stdout",
          "text": [
            "The region of interest is 520 base pairs long.\n",
            "The AT content of the region of interest is 51.15 %\n",
            "The lengths of the 3 regions are: 173 173 174\n",
            "The AT content of the regions of interest are: \n",
            " Region 1 56.07 % \n",
            " Region 2 53.76 % \n",
            " Region 3 43.68 %\n",
            "STATISTICS \n",
            " For region 1 vs region 2 \n",
            " z-statistic: 0.43217430381721206 and p-value: 0.6656147338478539\n",
            "The difference between regions 1 and 2 is NOT significant.\n",
            "For region 1 vs region 3 \n",
            " z-statistic: 2.308225410870885 and p-value: 0.02098660253552787\n",
            "The difference between regions 1 and 3 is significant.\n",
            "For region 2 vs region 3 \n",
            " z-statistic: 1.8781457189821567 and p-value: 0.06036123341944491\n",
            "The difference between regions 1 and 3 is NOT significant.\n"
          ]
        }
      ],
      "source": [
        "from statsmodels.stats.proportion import proportions_ztest\n",
        "\n",
        "#calculate length of region of interest\n",
        "region_length = len(region)\n",
        "print (\"The region of interest is\", region_length, \"base pairs long.\")\n",
        "AT_content_raw = ((region.count(\"A\") + region.count(\"T\"))/region_length)*100\n",
        "AT_content = round(AT_content_raw, 2)\n",
        "print (\"The AT content of the region of interest is\", str(AT_content), \"%\")\n",
        "\n",
        "#divide into 3\n",
        "\n",
        "len_A = 173\n",
        "len_B = 173\n",
        "\n",
        "region_1 = list(region[0:len_A])\n",
        "region_2 = list(region[len_A:(len_A + len_B)])\n",
        "region_3 = list(region[(len_A+len_B):])\n",
        "\n",
        "#sense check\n",
        "len_region_1 = len(region_1)\n",
        "len_region_2 = len(region_2)\n",
        "len_region_3 = len(region_3)\n",
        "\n",
        "print(\"The lengths of the 3 regions are:\", len_region_1, len_region_2, len_region_3)\n",
        "\n",
        "#check AT% of each\n",
        "\n",
        "Reg_1_AT_content_raw = ((region_1.count(\"A\") + region_1.count(\"T\"))/len_region_1)*100\n",
        "Reg_1_AT_content = round(Reg_1_AT_content_raw, 2)\n",
        "\n",
        "Reg_2_AT_content_raw = ((region_2.count(\"A\") + region_2.count(\"T\"))/len_region_2)*100\n",
        "Reg_2_AT_content = round(Reg_2_AT_content_raw, 2)\n",
        "\n",
        "Reg_3_AT_content_raw = ((region_3.count(\"A\") + region_3.count(\"T\"))/len_region_3)*100\n",
        "Reg_3_AT_content = round(Reg_3_AT_content_raw, 2)\n",
        "\n",
        "print (\"The AT content of the regions of interest are: \\n Region 1\", str(Reg_1_AT_content), \"% \\n Region 2\", str(Reg_2_AT_content), \"% \\n Region 3\",str(Reg_3_AT_content), \"%\" )\n",
        "\n",
        "#are they different? reg 1 vs reg 2\n",
        "\n",
        "AT_counts = [(region_1.count(\"A\") + region_1.count(\"T\")), (region_2.count(\"A\") + region_2.count(\"T\"))]\n",
        "\n",
        "region_size = [len_region_1, len_region_2]\n",
        "\n",
        "z_stat_1v2, p_value_1v2 = proportions_ztest(AT_counts, region_size)\n",
        "\n",
        "z_1v2 = round(z_stat_1v2, 3)\n",
        "p_1v2 = round(p_value_1v2, 3)\n",
        "\n",
        "print(\"STATISTICS \\n For region 1 vs region 2 \\n z-statistic:\", z_stat_1v2, \"and p-value:\", p_value_1v2)\n",
        "\n",
        "if p_value_1v2 <=0.05 :\n",
        "  print(\"The difference between regions 1 and 2 is significant.\")\n",
        "\n",
        "if p_value_1v2 >0.05 :\n",
        "  print(\"The difference between regions 1 and 2 is NOT significant.\")\n",
        "\n",
        "#are they different? reg 1 vs reg 3\n",
        "\n",
        "AT_counts = [(region_1.count(\"A\") + region_1.count(\"T\")), (region_3.count(\"A\") + region_3.count(\"T\"))]\n",
        "\n",
        "region_size = [len_region_1, len_region_3]\n",
        "\n",
        "z_stat_1v3, p_value_1v3 = proportions_ztest(AT_counts, region_size)\n",
        "\n",
        "z_1v3 = round(z_stat_1v3, 3)\n",
        "p_1v3 = round(p_value_1v3, 3)\n",
        "\n",
        "print(\"For region 1 vs region 3 \\n z-statistic:\", z_stat_1v3, \"and p-value:\", p_value_1v3)\n",
        "\n",
        "if p_value_1v3 <=0.05 :\n",
        "  print(\"The difference between regions 1 and 3 is significant.\")\n",
        "\n",
        "if p_value_1v3 >0.05 :\n",
        "  print(\"The difference between regions 1 and 3 is NOT significant.\")\n",
        "\n",
        "#are they different? reg 2 vs reg 3\n",
        "\n",
        "AT_counts = [(region_2.count(\"A\") + region_2.count(\"T\")), (region_3.count(\"A\") + region_3.count(\"T\"))]\n",
        "\n",
        "region_size = [len_region_2, len_region_3]\n",
        "\n",
        "z_stat_2v3, p_value_2v3 = proportions_ztest(AT_counts, region_size)\n",
        "\n",
        "z_2v3 = round(z_stat_2v3, 3)\n",
        "p_2v3 = round(p_value_2v3, 3)\n",
        "\n",
        "print(\"For region 2 vs region 3 \\n z-statistic:\", z_stat_2v3, \"and p-value:\", p_value_2v3)\n",
        "\n",
        "if p_value_2v3 <=0.05 :\n",
        "  print(\"The difference between regions 1 and 3 is significant.\")\n",
        "\n",
        "if p_value_2v3 >0.05 :\n",
        "  print(\"The difference between regions 1 and 3 is NOT significant.\")\n",
        "\n"
      ]
    },
    {
      "cell_type": "code",
      "source": [
        "#extract the TFBS\n",
        "\n",
        "len_TFBS_1 = len(TFBS_experimental[0])\n",
        "len_TFBS_2 = len(TFBS_experimental[1])\n",
        "len_TFBS_3 = len(TFBS_experimental[2])\n",
        "\n",
        "sequence_TFBS_1 = region[confirmed_binding_sites[0]:(confirmed_binding_sites[0]+len_TFBS_1)]\n",
        "\n",
        "sequence_TFBS_2 = region[confirmed_binding_sites[1]:(confirmed_binding_sites[1]+len_TFBS_2)]\n",
        "\n",
        "sequence_TFBS_3 = region[confirmed_binding_sites[2]:(confirmed_binding_sites[2]+len_TFBS_3)]\n",
        "\n",
        "\n",
        "print(\"The following TFBS were identified by ChIP-seq: \\n \\n TFBS1 \\n\", TFBS_experimental[0], \"\\n\",sequence_TFBS_1, \"\\n \\n TFBS2 \\n\", TFBS_experimental[1], \"\\n\",sequence_TFBS_2,\"\\n \\n TFBS3 \\n\", TFBS_experimental[2], \"\\n\",sequence_TFBS_3)\n",
        "\n",
        "#extract with neighbouring bases\n",
        "\n",
        "len_TFBS_1 = len(TFBS_experimental[0])\n",
        "len_TFBS_2 = len(TFBS_experimental[1])\n",
        "len_TFBS_3 = len(TFBS_experimental[2])\n",
        "\n",
        "sequence_TFBS_1_ext = region[(confirmed_binding_sites[0]-5):(confirmed_binding_sites[0]+len_TFBS_1+5)]\n",
        "\n",
        "sequence_TFBS_2_ext = region[(confirmed_binding_sites[1]-5):(confirmed_binding_sites[1]+len_TFBS_1+5)]\n",
        "\n",
        "sequence_TFBS_3_ext = region[(confirmed_binding_sites[2]-5):(confirmed_binding_sites[2]+len_TFBS_1+5)]\n",
        "\n",
        "\n",
        "print(\n",
        "    \"\\nThe following TFBS were identified by ChIP-seq (with genomic context):\\n\\n\"\n",
        "    \"TFBS1\\n-----\" + TFBS_experimental[0] + \"-----\\n\" + sequence_TFBS_1_ext + \"\\n\\n\"\n",
        "    \"TFBS2\\n-----\" + TFBS_experimental[1] + \"-----\\n\" + sequence_TFBS_2_ext + \"\\n\\n\"\n",
        "    \"TFBS3\\n-----\" + TFBS_experimental[2] + \"-----\\n\" + sequence_TFBS_3_ext\n",
        ")"
      ],
      "metadata": {
        "id": "k0zT3YWLr8sg",
        "outputId": "a35a2d81-a8aa-488c-903b-b0da5c091d24",
        "colab": {
          "base_uri": "https://localhost:8080/"
        }
      },
      "execution_count": 40,
      "outputs": [
        {
          "output_type": "stream",
          "name": "stdout",
          "text": [
            "The following TFBS were identified by ChIP-seq: \n",
            " \n",
            " TFBS1 \n",
            " AGGTC \n",
            " AGGTC \n",
            " \n",
            " TFBS2 \n",
            " TGATT \n",
            " TGATC \n",
            " \n",
            " TFBS3 \n",
            " GGTCT \n",
            " GGTCT\n",
            "\n",
            "The following TFBS were identified by ChIP-seq (with genomic context):\n",
            "\n",
            "TFBS1\n",
            "-----AGGTC-----\n",
            "ATCATAGGTCACTGT\n",
            "\n",
            "TFBS2\n",
            "-----TGATT-----\n",
            "TGGTGTGATCATAGG\n",
            "\n",
            "TFBS3\n",
            "-----GGTCT-----\n",
            "GGGCGGGTCTAATGA\n"
          ]
        }
      ]
    },
    {
      "cell_type": "code",
      "source": [
        "import matplotlib.pyplot as plt\n",
        "\n",
        "# Sequence motifs found in the region, and frequency\n",
        "in_silico_sites = [('AATGA', 4), ('CATAG', 4), ('GGAGT', 5), ('GAGTG', 5), ('GGTCT', 5), ('TAGGT', 5), ('GGTCA', 5), ('GTGTG', 6), ('TGTGA', 6), ('TTGAG', 6), ('TCTTG', 6), ('GTGAT', 6), ('TGATC', 6), ('CTCAA', 6), ('AGGTC', 8), ('TTTTT', 14)]\n",
        "\n",
        "#separate tuple into two lists\n",
        "\n",
        "motifs, frequency = zip(*in_silico_sites)\n",
        "\n",
        "motifs = list(motifs)\n",
        "frequency = list(frequency)\n",
        "\n",
        "print(motifs)\n",
        "print(frequency)\n",
        "\n",
        "#bar plot\n",
        "\n",
        "x = list(motifs)\n",
        "y = list(frequency)\n",
        "\n",
        "plt.bar(x, y)\n",
        "plt.xlabel('TFBS motif')\n",
        "plt.xticks(rotation=90, fontsize=6)\n",
        "plt.ylabel('Frequency')\n",
        "plt.show()"
      ],
      "metadata": {
        "id": "ibBvR-g83KHk",
        "outputId": "f37d7885-d22a-4680-bc05-dc953f643d7a",
        "colab": {
          "base_uri": "https://localhost:8080/",
          "height": 500
        }
      },
      "execution_count": 47,
      "outputs": [
        {
          "output_type": "stream",
          "name": "stdout",
          "text": [
            "['AATGA', 'CATAG', 'GGAGT', 'GAGTG', 'GGTCT', 'TAGGT', 'GGTCA', 'GTGTG', 'TGTGA', 'TTGAG', 'TCTTG', 'GTGAT', 'TGATC', 'CTCAA', 'AGGTC', 'TTTTT']\n",
            "[4, 4, 5, 5, 5, 5, 5, 6, 6, 6, 6, 6, 6, 6, 8, 14]\n"
          ]
        },
        {
          "output_type": "display_data",
          "data": {
            "text/plain": [
              "<Figure size 640x480 with 1 Axes>"
            ],
            "image/png": "[encoded data removed]"
          },
          "metadata": {}
        }
      ]
    },
    {
      "cell_type": "code",
      "source": [
        "#locate in silico motifs within the region block?\n",
        "\n",
        "motif_1 = motifs[0]\n",
        "len_motif_1 = len(motif_1)\n",
        "\n",
        "positions = []\n",
        "start = 0\n",
        "while True:\n",
        "    pos = region.find(motif_1, start)\n",
        "    if pos == -1:\n",
        "        break\n",
        "    positions.append(pos)\n",
        "    start = pos + 1\n",
        "\n",
        "print(positions)\n",
        "\n",
        "#highlight them in a printed text????\n",
        "\n",
        "from IPython.display import display, HTML\n",
        "\n",
        "highlight_regions = [(pos, pos + len_motif_1) for pos in positions]\n",
        "\n",
        "formatted_seq = \"\"\n",
        "last_end = 0\n",
        "\n",
        "for start, end in highlight_regions:\n",
        "\n",
        "    formatted_seq += region[last_end:start]\n",
        "    # Add the highlighted part (bold + underline)\n",
        "    formatted_seq += f\"<span style='color:red; font-weight:bold; text-decoration:underline;'>{region[start:end]}</span>\"\n",
        "    last_end = end\n",
        "\n",
        "# Add the rest of the sequence\n",
        "formatted_seq += region[last_end:]\n",
        "\n",
        "# Show in notebook\n",
        "display(HTML(f\"<pre>{formatted_seq}</pre>\"))\n"
      ],
      "metadata": {
        "id": "GE-iC4fX_KNF",
        "outputId": "ae373c8f-8f3b-450f-8175-cc5b4ba2c5c2",
        "colab": {
          "base_uri": "https://localhost:8080/",
          "height": 72
        }
      },
      "execution_count": 54,
      "outputs": [
        {
          "output_type": "stream",
          "name": "stdout",
          "text": [
            "[42, 76, 230, 262]\n"
          ]
        },
        {
          "output_type": "display_data",
          "data": {
            "text/plain": [
              "<IPython.core.display.HTML object>"
            ],
            "text/html": [
              "<pre>AATTATTTACTTAGCTAGGAGTGTGAGCTTGAGGGCGGGTCT<span style='color:red; font-weight:bold; text-decoration:underline;'>AATGA</span>GTAGGTCAGAGTCAGCCTGGCACAGCAAG<span style='color:red; font-weight:bold; text-decoration:underline;'>AATGA</span>AATAATTTTTTTTTTGAGATAAGGTCTTGCTCTGCCACCCAGGCAATGGTGTGATCATAGGTCACTGTAACCTCAAACTCTTGGGCTCAAGTGATCCTCCTGCATAGTTGGTATTACTTAGCTAGGAGTGTGAGCTTGAGGGCGGGTCT<span style='color:red; font-weight:bold; text-decoration:underline;'>AATGA</span>GTAGGTCAGAGTCCCTGGCACAGCAAG<span style='color:red; font-weight:bold; text-decoration:underline;'>AATGA</span>AATAATTTTTTTTGAGATAAGGTCTTGCTCTGCCACCCAGGATGGAGTGCAATGGTGTGATCATAGGTCACTGTAACCTCAAACTCTTGGGCTCAAGTGATCCTCCTGCGTTGGTATTACTTAGCTAGGAGTGTGAGCCGGAGGGCGGGTTTTTTTTGAGACAAGGTCTTGCCCCGCCACCCAGGAGGGAGTGCGCTGGTGTGATCATAGGTCACTGTAACCTCAAACTCTTGGGCTCGCGTGATCCCCCGGC</pre>"
            ]
          },
          "metadata": {}
        }
      ]
    },
    {
      "cell_type": "code",
      "source": [],
      "metadata": {
        "id": "xhpgJrWEAml1"
      },
      "execution_count": null,
      "outputs": []
    }
  ],
  "metadata": {
    "colab": {
      "provenance": []
    },
    "kernelspec": {
      "display_name": "Python 3",
      "name": "python3"
    },
    "language_info": {
      "codemirror_mode": {
        "name": "ipython",
        "version": 3
      },
      "file_extension": ".py",
      "mimetype": "text/x-python",
      "name": "python",
      "nbconvert_exporter": "python",
      "pygments_lexer": "ipython3",
      "version": "3.11.5"
    }
  },
  "nbformat": 4,
  "nbformat_minor": 0
}