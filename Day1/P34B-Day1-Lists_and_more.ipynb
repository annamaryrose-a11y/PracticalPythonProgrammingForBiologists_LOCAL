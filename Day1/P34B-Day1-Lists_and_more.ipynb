{
  "cells": [
    {
      "cell_type": "markdown",
      "metadata": {
        "id": "QfYvI-_yE10I"
      },
      "source": [
        "# Practical Python Programming for Biologists\n",
        "Author: Dr. Daniel Pass | www.CompassBioinformatics.com\n",
        "\n",
        "---"
      ]
    },
    {
      "cell_type": "markdown",
      "metadata": {
        "id": "chQY6saIQI0B"
      },
      "source": [
        "# More Data formats\n",
        "\n",
        "So far we've just looked at singe pieces of data (as individual numbers, strings of text, or True/False values). However the real power comes from collections of data in lists, tuples, and dictionaries."
      ]
    },
    {
      "cell_type": "markdown",
      "metadata": {
        "id": "O3dpWcuaRuhi"
      },
      "source": [
        "# Lists\n",
        "\n",
        "A list is a collection of items that are ordered and changeable. Lists are one of the most commonly used data structures in Python and are used to store a collection of related values.\n",
        "\n",
        "To create a list in Python, we simply use square brackets and separate the items in the list with commas:"
      ]
    },
    {
      "cell_type": "code",
      "execution_count": null,
      "metadata": {
        "colab": {
          "base_uri": "https://localhost:8080/"
        },
        "id": "ehgMJYEoSVFS",
        "outputId": "3f8f8054-ebe3-4bb7-b264-26253af7bcfe"
      },
      "outputs": [
        {
          "output_type": "stream",
          "name": "stdout",
          "text": [
            "['A', 'T', 'G', 'C', 'G', 'C', 'G', 'A', 'T']\n"
          ]
        }
      ],
      "source": [
        "# Create a list of DNA bases\n",
        "bases = ['A', 'T', 'G', 'C', 'G', 'C', 'G', 'A', 'T']\n",
        "\n",
        "print(bases)"
      ]
    },
    {
      "cell_type": "markdown",
      "metadata": {
        "id": "uE0oQ8hHSZXh"
      },
      "source": [
        "Because they are stored in order we can access individual elements in a list by using their index. Indexes always start at 0, so the first element in the list has an index of 0, the second element has an index of 1, and so on.\n",
        "\n",
        "When selecting multiple elements the index must be inclusive of the last element to be included. Note that it will return a list too, not just the elements you ask for."
      ]
    },
    {
      "cell_type": "code",
      "execution_count": null,
      "metadata": {
        "colab": {
          "base_uri": "https://localhost:8080/"
        },
        "id": "kJbgZbocSaCh",
        "outputId": "d7a670bf-018f-4364-ddda-3330e295bec9"
      },
      "outputs": [
        {
          "output_type": "stream",
          "name": "stdout",
          "text": [
            "A\n"
          ]
        }
      ],
      "source": [
        "# Access the first element in the list\n",
        "print(bases[0])"
      ]
    },
    {
      "cell_type": "code",
      "execution_count": null,
      "metadata": {
        "id": "uJ1b-AaOSwUQ",
        "outputId": "ad2c87d0-614a-4315-c53f-b9ddcff738fc"
      },
      "outputs": [
        {
          "name": "stdout",
          "output_type": "stream",
          "text": [
            "['T', 'G', 'C', 'G']\n"
          ]
        }
      ],
      "source": [
        "# Access the second, third, fourth & fifth element in the  - ioncludes start but not upper - \"draws a line before the specified index\"\n",
        "print(bases[1:5])"
      ]
    },
    {
      "cell_type": "markdown",
      "metadata": {
        "id": "iOsiQBcYSwUR"
      },
      "source": [
        "There are also some useful shortuts, for example if you leave one value empty it will assume start/end of the list. You can also use the minus ```-``` character to start from the end of the list."
      ]
    },
    {
      "cell_type": "code",
      "execution_count": null,
      "metadata": {
        "colab": {
          "base_uri": "https://localhost:8080/"
        },
        "id": "efZIcVODSwUR",
        "outputId": "7db38994-2b4c-4e2a-af5f-7b3d37982546"
      },
      "outputs": [
        {
          "output_type": "stream",
          "name": "stdout",
          "text": [
            "['C', 'G', 'C', 'G', 'A', 'T']\n",
            "T\n",
            "CAT\n",
            "🐈\n"
          ]
        }
      ],
      "source": [
        "\n",
        "# Access from the fourth to the end of the list\n",
        "print(bases[3:])\n",
        "\n",
        "# Access the last element in the list\n",
        "print(bases[-1])\n",
        "\n",
        "#Print the 4th, 8th, & 9th elements\n",
        "print(bases[3]+ bases[7]+ bases[8])\n",
        "\n",
        "animal = (bases[3]+ bases[7]+ bases[8])\n",
        "\n",
        "if animal == \"CAT\" :\n",
        "  print (\"\\U0001F408\") #use unicode (000 instead of +)"
      ]
    },
    {
      "cell_type": "markdown",
      "metadata": {
        "id": "L8Glc2wtSwUR"
      },
      "source": [
        "**Exercise:** Print the 4th, 8th, & 9th elements\n",
        "\n",
        "**Extension Exercise:** Do it all in one line!"
      ]
    },
    {
      "cell_type": "markdown",
      "metadata": {
        "id": "oeZlPXOHSwUS"
      },
      "source": [
        "Also note that lists don't have to be all one data type! You can even have lists of lists!\n",
        "\n",
        "It can be useful, or it can get confusing."
      ]
    },
    {
      "cell_type": "code",
      "execution_count": null,
      "metadata": {
        "id": "_fKMd8GDSwUS",
        "outputId": "34a12e6e-f592-442e-c47a-e61c819030cc"
      },
      "outputs": [
        {
          "name": "stdout",
          "output_type": "stream",
          "text": [
            "<class 'int'>\n",
            "<class 'int'>\n",
            "<class 'str'>\n",
            "<class 'float'>\n",
            "<class 'str'>\n",
            "<class 'list'>\n",
            "<class 'int'>\n",
            "<class 'float'>\n"
          ]
        }
      ],
      "source": [
        "scoring_data = [97, 85, \"above average\", 75.5, \"Missing data\", [85, 25, 76], 48, 0.97]\n",
        "\n",
        "# print type for each - We'll look more at how this works later\n",
        "for each in scoring_data: print(type(each))"
      ]
    },
    {
      "cell_type": "markdown",
      "metadata": {
        "id": "DIuyHBqUSw1r"
      },
      "source": [
        "#### Manipulating lists\n",
        "\n",
        "Once you have data in your list, you can easily replace individual elements, or add, remove, insert etc."
      ]
    },
    {
      "cell_type": "code",
      "execution_count": null,
      "metadata": {
        "colab": {
          "base_uri": "https://localhost:8080/"
        },
        "id": "5PSpVqG6TBOD",
        "outputId": "a1610b3d-9b27-44cf-dd75-d8586aa3cab7"
      },
      "outputs": [
        {
          "output_type": "stream",
          "name": "stdout",
          "text": [
            "['A', 'T', 'S', 'C', 'G', 'C', 'G', 'A', 'T']\n"
          ]
        }
      ],
      "source": [
        "# Modify the third element in the list\n",
        "bases[2] = 'S'\n",
        "\n",
        "print(bases)"
      ]
    },
    {
      "cell_type": "code",
      "execution_count": null,
      "metadata": {
        "colab": {
          "base_uri": "https://localhost:8080/"
        },
        "id": "Yf8dU5JSS7LS",
        "outputId": "38f6a471-e660-4fa8-db77-3d2dbb263fbd"
      },
      "outputs": [
        {
          "output_type": "stream",
          "name": "stdout",
          "text": [
            "['A', 'T', 'C', '??', '??', '??', '??', 'G', 'C', 'G', 'A', 'T', 'U', 'L', 'I', 'T', 'U', 'L', 'I', 'S', 'T', 'U', 'L', 'I', 'S', 'T', 'U', 'L', 'I', 'S', 'T', 'U', 'L', 'I', 'S', 'T']\n",
            "['A', 'T', 'C', '??', '??', '??', '??', 'G', 'C', 'G', 'A', 'T', 'U', 'L', 'I', 'T', 'U', 'L', 'I', 'T', 'U', 'L', 'I', 'S', 'T', 'U', 'L', 'I', 'S', 'T', 'U', 'L', 'I', 'S', 'T']\n"
          ]
        }
      ],
      "source": [
        "# Add an element to the end of the list\n",
        "bases.append('U')\n",
        "\n",
        "bases += ['L', 'I', 'S', 'T']\n",
        "\n",
        "# Insert an element at a specific index\n",
        "bases.insert(4, '??')\n",
        "\n",
        "print(bases)\n",
        "\n",
        "# Remove an element from the list - only the first instance!\n",
        "bases.remove('S')\n",
        "print(bases)"
      ]
    },
    {
      "cell_type": "markdown",
      "metadata": {
        "id": "E4fjTbctuGBg"
      },
      "source": [
        "The ```.pop``` method is useful as it both takes the last element (by default) and removes it:"
      ]
    },
    {
      "cell_type": "code",
      "execution_count": null,
      "metadata": {
        "colab": {
          "base_uri": "https://localhost:8080/"
        },
        "id": "z2eb7ewqThj7",
        "outputId": "496de102-747d-4e75-d340-1162702feb52"
      },
      "outputs": [
        {
          "name": "stdout",
          "output_type": "stream",
          "text": [
            "['CDF', 'BRI', 'LDN', 'SWN', 'EXT']\n",
            "['CDF', 'BRI', 'LDN', 'SWN']\n"
          ]
        }
      ],
      "source": [
        "# A list of sites we still have to process\n",
        "sites = [\"CDF\", \"BRI\", \"LDN\", \"SWN\", \"EXT\"]\n",
        "\n",
        "# Remove the last element from the list (and discard it)\n",
        "print(sites)\n",
        "sites.pop()\n",
        "print(sites)"
      ]
    },
    {
      "cell_type": "markdown",
      "metadata": {
        "id": "LrFa_W72SwUT"
      },
      "source": [
        "Instead of discarding the \"popped\" value, it can also put it into a new variable."
      ]
    },
    {
      "cell_type": "code",
      "execution_count": null,
      "metadata": {
        "id": "XKsSEMsgSwUT",
        "outputId": "45967de3-a339-421d-93c0-419da1232c08"
      },
      "outputs": [
        {
          "name": "stdout",
          "output_type": "stream",
          "text": [
            "The most recent site was EXT\n",
            "Remaining sites to be processed are: ['CDF', 'BRI', 'LDN', 'SWN']\n"
          ]
        }
      ],
      "source": [
        "# A list of sites we still have to process\n",
        "sites = [\"CDF\", \"BRI\", \"LDN\", \"SWN\", \"EXT\"]\n",
        "\n",
        "last_site = sites.pop()\n",
        "print(\"The most recent site was\", last_site)\n",
        "print(\"Remaining sites to be processed are:\", sites)"
      ]
    },
    {
      "cell_type": "markdown",
      "metadata": {
        "id": "TF6vVTpXSwUT"
      },
      "source": [
        "We can also pop based on the index, i.e. the first or second:"
      ]
    },
    {
      "cell_type": "code",
      "execution_count": null,
      "metadata": {
        "id": "zEuPv5QPSwUT",
        "outputId": "94ed01ba-ff6a-4411-f4e2-bae4fc9de5d5"
      },
      "outputs": [
        {
          "name": "stdout",
          "output_type": "stream",
          "text": [
            "LDN\n",
            "['CDF', 'SWN']\n"
          ]
        }
      ],
      "source": [
        "second_site = sites.pop(1)\n",
        "print(second_site)\n",
        "print(sites)"
      ]
    },
    {
      "cell_type": "markdown",
      "metadata": {
        "id": "KiLUE6BISwUU"
      },
      "source": [
        "A really common requirement in a list is sorting. Maybe not too useful with just a list of numbers but with annotated information that we'll see in 2D lists later it can be useful.\n",
        "\n",
        "There's both a ```.sort()``` method, and the ```sorted()``` function. The ```.sort()``` method changes the list you already have, however ```sorted(list)``` will create a new list."
      ]
    },
    {
      "cell_type": "code",
      "execution_count": null,
      "metadata": {
        "id": "5TwWBm_tSwUU",
        "outputId": "812bea33-ef97-404e-f39a-91707ca71972"
      },
      "outputs": [
        {
          "name": "stdout",
          "output_type": "stream",
          "text": [
            "original list: [25, 28, 14, 76, 58, 31, 56, 91, 24, 86, 0, 25]\n",
            "original list: [25, 28, 14, 76, 58, 31, 56, 91, 24, 86, 0, 25]\n",
            "sorted list:   [0, 14, 24, 25, 25, 28, 31, 56, 58, 76, 86, 91]\n",
            "original list: [0, 14, 24, 25, 25, 28, 31, 56, 58, 76, 86, 91]\n"
          ]
        }
      ],
      "source": [
        "leafCoverPercentage = [25, 28, 14, 76, 58, 31, 56, 91, 24, 86, 0, 25]\n",
        "print(\"original list:\", leafCoverPercentage)\n",
        "\n",
        "sorted_leafCoverPercentage = sorted(leafCoverPercentage)\n",
        "print(\"original list:\", leafCoverPercentage)\n",
        "print(\"sorted list:  \", sorted_leafCoverPercentage)\n",
        "\n",
        "leafCoverPercentage.sort()\n",
        "print(\"original list:\", leafCoverPercentage)"
      ]
    },
    {
      "cell_type": "markdown",
      "metadata": {
        "id": "_noxi2Life1X"
      },
      "source": [
        "**Building lists**\n",
        "\n",
        "In addidtion to writing your lists out, you can also add mulptiple elements on at the same time, or combine lists easily:"
      ]
    },
    {
      "cell_type": "code",
      "execution_count": null,
      "metadata": {
        "colab": {
          "base_uri": "https://localhost:8080/"
        },
        "id": "bNS7-RlQflWW",
        "outputId": "46bed646-a393-4720-d781-3bb47150e2c8"
      },
      "outputs": [
        {
          "output_type": "stream",
          "name": "stdout",
          "text": [
            "['BRCA1', 'TP53', 'EGFR', 'KRAS', 'MET1', 'ROS']\n"
          ]
        }
      ],
      "source": [
        "confirmed_genes = ['BRCA1', 'TP53', 'EGFR', 'KRAS']\n",
        "suggested_target_genes = ['MET1', 'ROS']\n",
        "\n",
        "all_genes = confirmed_genes + suggested_target_genes\n",
        "\n",
        "print(all_genes)"
      ]
    },
    {
      "cell_type": "code",
      "execution_count": null,
      "metadata": {
        "colab": {
          "base_uri": "https://localhost:8080/"
        },
        "id": "b9ZiJIl4SwUU",
        "outputId": "3c22bac7-ab89-4cdb-95f3-6e98091313d6"
      },
      "outputs": [
        {
          "output_type": "stream",
          "name": "stdout",
          "text": [
            "['BRCA1', 'TP53', 'EGFR', 'KRAS', 'MET1', 'ROS', 'ABC13']\n"
          ]
        }
      ],
      "source": [
        "all_genes.append ('ABC13')\n",
        "\n",
        "print(all_genes)"
      ]
    },
    {
      "cell_type": "markdown",
      "metadata": {
        "id": "-KlsVZIqEJT5"
      },
      "source": [
        "## Exercise - BugFix\n",
        "\n",
        "Try to find and correct the issues in the code block:"
      ]
    },
    {
      "cell_type": "code",
      "execution_count": null,
      "metadata": {
        "colab": {
          "base_uri": "https://localhost:8080/"
        },
        "id": "_pq0YNuNEIjQ",
        "outputId": "356f2498-b947-4e3f-fc98-9008b8739796"
      },
      "outputs": [
        {
          "output_type": "stream",
          "name": "stdout",
          "text": [
            "Original: ['C', 'A', 'T', 'G', 'C', 'G', 'T', 'A', 'T', 'A', 'T', 'N', 'N', 'C', 'A', 'T', 'C', 'G']\n",
            "Number of Ns = 2\n",
            "After removing Ns: ['C', 'A', 'T', 'G', 'C', 'G', 'T', 'A', 'T', 'A', 'T', 'C', 'A', 'T', 'C', 'G']\n"
          ]
        }
      ],
      "source": [
        "# Our gene insert as a list of bases\n",
        "my_insert = ['C', 'A', 'T', 'G', 'C', 'G', 'T', 'A', 'T', 'A', 'T', 'N', 'N', 'C', 'A', 'T', 'C', 'G']\n",
        "\n",
        "print(\"Original:\", my_insert)\n",
        "\n",
        "# Count number of Ns\n",
        "number_N = my_insert.count(\"N\")\n",
        "print(\"Number of Ns =\", number_N)\n",
        "\n",
        "# Loop to remove N number_N times\n",
        "for bases in range(number_N):\n",
        "    my_insert.remove(\"N\")\n",
        "\n",
        "print(\"After removing Ns:\", my_insert)"
      ]
    },
    {
      "cell_type": "markdown",
      "metadata": {
        "id": "79lEj84kGhPC"
      },
      "source": [
        "### Exercise - Manipulating lists\n",
        "\n",
        "We know that the restriction enzyme **DANase** always cuts 9bp after end of the start codon. We want to create two lists. One for the sequence before the cutsite, and one for the remaining part of the sequence and print them out.\n",
        "\n",
        "1. Complete this code. Using numerical slicing, cut the string 9 bases ***after*** the ATG."
      ]
    },
    {
      "cell_type": "code",
      "execution_count": null,
      "metadata": {
        "id": "CWFQfEMEGA66",
        "colab": {
          "base_uri": "https://localhost:8080/"
        },
        "outputId": "a4f4efc9-22de-414c-c13e-c640988c7dae"
      },
      "outputs": [
        {
          "output_type": "stream",
          "name": "stdout",
          "text": [
            "['A', 'T', 'G', 'C', 'C', 'G', 'C', 'G', 'G', 'C', 'A', 'T']\n",
            "['G', 'G', 'A', 'C', 'G', 'C', 'G', 'T', 'A', 'T', 'A', 'T', 'G', 'C', 'C', 'A', 'T', 'C', 'G']\n"
          ]
        }
      ],
      "source": [
        "# Our gene as a list of bases\n",
        "my_gene = ['A', 'T', 'G', 'C', 'C', 'G', 'C', 'G', 'G', 'C', 'A', 'T', 'G', 'G', 'A', 'C', 'G', 'C', 'G', 'T', 'A', 'T', 'A', 'T', 'G', 'C', 'C', 'A', 'T', 'C', 'G']\n",
        "\n",
        "# Expected cut site: CAT|GCA\n",
        "first_part = my_gene[0:12]\n",
        "second_part = my_gene[12:]\n",
        "\n",
        "print(first_part)\n",
        "print(second_part)"
      ]
    },
    {
      "cell_type": "markdown",
      "metadata": {
        "id": "haNadAFuSwUV"
      },
      "source": [
        "<details>\n",
        "<summary>Expected output</summary>\n",
        "\n",
        "In this example it should cut at (```CAT | GGA```)\n",
        "\n",
        "</details>"
      ]
    },
    {
      "cell_type": "markdown",
      "metadata": {
        "id": "hgm8BqzDKZJ7"
      },
      "source": [
        "**Lists into strings**\n",
        "\n",
        "We can use the .join() method to join all the elements in a list into a string and to make it easier for reading. The part between the single quotes is what will be between each element. It is a slightly odd format (because it is a string method, not a list method), but can be useful.\n",
        "\n",
        "We can make an easily readable output highlighing the restriction cut in our sequence so that it looks like:\n",
        "```...ATCG-CGAT...```\n"
      ]
    },
    {
      "cell_type": "code",
      "execution_count": null,
      "metadata": {
        "id": "sQHED2-PKk9S",
        "colab": {
          "base_uri": "https://localhost:8080/"
        },
        "outputId": "4b24a590-3463-44e7-dd2e-7731edc66a9e"
      },
      "outputs": [
        {
          "output_type": "stream",
          "name": "stdout",
          "text": [
            "ATGCCGCGGCAT-GGACGCGTATATGCCATCG\n"
          ]
        }
      ],
      "source": [
        "# Join our strings, with a hyphen at the cut site\n",
        "print(''.join(first_part) + \"-\" + ''.join(second_part))"
      ]
    },
    {
      "cell_type": "markdown",
      "metadata": {
        "id": "RGWx6mFXUBQ6"
      },
      "source": [
        "---\n",
        "\n",
        "## Tuples\n",
        "A tuple is a collection of \"ordered and immutable\" elements. Basically they are similar to lists, but **once a tuple is created, its elements cannot be changed**.\n",
        "\n",
        "Because they won't be sorted, elonogated or shortened, Tuples are often used to store related values that are constant and do not change. A classic example would be genomic co-ordinates. Because they are immutable they are also more memory-efficient and faster to access and process than lists.\n",
        "\n",
        "Tuples are differentiated from lists by using round brackets ```( )``` (parentheses) instead.\n",
        "\n",
        "Because we define a specific format we can access elements by name as they will always be in the same position:"
      ]
    },
    {
      "cell_type": "code",
      "execution_count": null,
      "metadata": {
        "colab": {
          "base_uri": "https://localhost:8080/"
        },
        "id": "32i4KcYAUwb5",
        "outputId": "20dfccd4-01f3-4ffe-bef2-d08c8a7d8e81"
      },
      "outputs": [
        {
          "name": "stdout",
          "output_type": "stream",
          "text": [
            "TFBS01\n",
            "1500\n",
            "1700\n"
          ]
        }
      ],
      "source": [
        "# Define a genomic coordinate as a tuple\n",
        "TFBS_coords = ('TFBS01', 1500, 1700)\n",
        "\n",
        "# Print the chromosome name\n",
        "print(TFBS_coords[0])\n",
        "\n",
        "# Print the start position\n",
        "print(TFBS_coords[1])\n",
        "\n",
        "# Print the end position\n",
        "print(TFBS_coords[2])\n"
      ]
    },
    {
      "cell_type": "markdown",
      "metadata": {
        "id": "TyArylsGQ919"
      },
      "source": [
        "Because of the fixed order of tuples there is also a very useful function to quickly assign the values to variables.\n",
        "\n",
        "We know the exact length and order of the tuple elements so we can assign them together on one line:"
      ]
    },
    {
      "cell_type": "code",
      "execution_count": null,
      "metadata": {
        "colab": {
          "base_uri": "https://localhost:8080/"
        },
        "id": "qakt6KEOQ9gu",
        "outputId": "beed1bc3-f462-4a62-d857-b396f026fe8c"
      },
      "outputs": [
        {
          "name": "stdout",
          "output_type": "stream",
          "text": [
            "ID:    TFBS01\n",
            "Start: 1500\n",
            "End:   1700\n",
            "BED format output: TFBS01:1500-1700\n"
          ]
        }
      ],
      "source": [
        "# Assign our three value tuple, to three new variable names\n",
        "id, start, end = TFBS_coords\n",
        "\n",
        "# And we can use them immediately\n",
        "print(\"ID:   \", id)\n",
        "print(\"Start:\", start)\n",
        "print(\"End:  \", end)\n",
        "print(\"BED format output:\", id + \":\" + str(start) + \"-\" + str(end))"
      ]
    },
    {
      "cell_type": "markdown",
      "metadata": {
        "id": "pVHT436sXvYe"
      },
      "source": [
        "---\n",
        "\n",
        "## Ranges\n",
        "Ranges are not really a different data type, but lets look at them quickly now as they are a very useful way of creating lists! Really, ranges are a type of automatic list method, where you can define the range and period in your sequence.\n",
        "\n",
        "You can easily create a simple range like so, but note that it is stored as a range-object until you force it to be a list:"
      ]
    },
    {
      "cell_type": "code",
      "execution_count": null,
      "metadata": {
        "colab": {
          "base_uri": "https://localhost:8080/"
        },
        "id": "yEDP7O52Y4jW",
        "outputId": "cca647c4-3c2e-4356-ed54-038e6cb69e20"
      },
      "outputs": [
        {
          "name": "stdout",
          "output_type": "stream",
          "text": [
            "range(0, 20)\n",
            "[0, 1, 2, 3, 4, 5, 6, 7, 8, 9, 10, 11, 12, 13, 14, 15, 16, 17, 18, 19]\n"
          ]
        }
      ],
      "source": [
        "x = range(20)\n",
        "\n",
        "# As it's own object\n",
        "print(x)\n",
        "\n",
        "# Forced List\n",
        "print(list(x))"
      ]
    },
    {
      "cell_type": "markdown",
      "metadata": {
        "id": "sTzljupXc-09"
      },
      "source": [
        "You can also define the interval that you want your sequence to have"
      ]
    },
    {
      "cell_type": "code",
      "execution_count": null,
      "metadata": {
        "id": "0M6iGIbCc6zW"
      },
      "outputs": [],
      "source": [
        "my_timeline = range(0, 20, 3)\n",
        "print(list(my_timeline))"
      ]
    },
    {
      "cell_type": "markdown",
      "metadata": {
        "id": "73tE45DaZP-w"
      },
      "source": [
        "### Exercise - Creating ranges\n",
        "\n",
        "You have taken a flourescence measurement of your culturing algae every **6 minutes for 5 hours** to see the response to a growth stimulation. We want to plot that data on a graph but we need to first create a list of the X axis time points (starting from time 0 and ending at 300).\n",
        "\n",
        "Your data is stored in a list variable named ```measurements```\n",
        "\n",
        "1. How many elements are going to be in your list? (You could either calculate it yourself, or count the length of your measurements)\n",
        "2. Create a list object named ```timeline``` using ```range()```. This will be your X-axis\n",
        "3. Run the graph making code to plot your data\n",
        "\n",
        "Note: Remember that list indexes must be inclusive!"
      ]
    },
    {
      "cell_type": "code",
      "execution_count": null,
      "metadata": {
        "colab": {
          "base_uri": "https://localhost:8080/"
        },
        "id": "ni-XFz3IZrJ4",
        "outputId": "7670b393-b9c9-4500-a4c6-fe3d3920e584"
      },
      "outputs": [
        {
          "output_type": "stream",
          "name": "stdout",
          "text": [
            "[0, 6, 12, 18, 24, 30, 36, 42, 48, 54, 60, 66, 72, 78, 84, 90, 96, 102, 108, 114, 120, 126, 132, 138, 144, 150, 156, 162, 168, 174, 180, 186, 192, 198, 204, 210, 216, 222, 228, 234, 240, 246, 252, 258, 264, 270, 276, 282, 288, 294, 300]\n"
          ]
        }
      ],
      "source": [
        "# Your data\n",
        "measurements = [0.68, 1.69, 3.37, 5.61, 7.89, 9.86, 10.9, 10.84, 9.86, 8.22, 6.46, 4.69, 3.19, 2.05, 1.24, 0.7, 0.38, 0.2, 0.1, 0.05, 0.02, 0.01, 0.0, 0.0, 0.0, 0.0, 0.0, 0.0, 0.0, 0.0, 0.0, 0.0, 0.0, 0.0, 0.0, 0.0, 0.0, 0.5, 1.0, 2.0, 3.0, 1.0, 0.0, 0.0, 0.0, 0.0, 0.0, 0.0, 0.0, 0.0, 0.0]\n",
        "\n",
        "## Create your timeline\n",
        "timeline =  range(0,301,6)\n",
        "\n",
        "print (list(timeline))"
      ]
    },
    {
      "cell_type": "code",
      "execution_count": null,
      "metadata": {
        "colab": {
          "base_uri": "https://localhost:8080/",
          "height": 449
        },
        "id": "kdmwllxUUGJ3",
        "outputId": "a5fb3624-fd5c-465a-d0ca-7ddd524ca575"
      },
      "outputs": [
        {
          "output_type": "display_data",
          "data": {
            "text/plain": [
              "<Figure size 640x480 with 1 Axes>"
            ],
            "image/png": "[encoded data removed]"
          },
          "metadata": {}
        }
      ],
      "source": [
        "# Make a quick graph\n",
        "import matplotlib.pyplot as plt\n",
        "\n",
        "peak_index = measurements.index(max(measurements))\n",
        "peak_time = timeline[peak_index]\n",
        "\n",
        "plt.plot(timeline, measurements)\n",
        "\n",
        "plt.axvline(x=peak_time, color='r', linestyle='--')\n",
        "\n",
        "plt.xlabel('Time (minutes)')\n",
        "plt.ylabel('Fluorescence (A.U.)')\n",
        "plt.show()"
      ]
    },
    {
      "cell_type": "markdown",
      "metadata": {
        "id": "dHQW6joOSzSV"
      },
      "source": [
        "---\n",
        "\n",
        "# Two Dimensional (2D) lists\n",
        "\n",
        "2d lists are where each element of the list is a list itself. You can imagine it a little like rows and columns in a spreadsheet or dataframe.\n",
        "\n",
        "Here the first element in each row is a confidence value, the second is the gene ID, and the third is the length of the gene."
      ]
    },
    {
      "cell_type": "code",
      "execution_count": null,
      "metadata": {
        "id": "OBjmpv4kSwUa",
        "outputId": "12aea7d0-5e5b-474e-8411-7f38c1a33dce"
      },
      "outputs": [
        {
          "name": "stdout",
          "output_type": "stream",
          "text": [
            "[0.92, 'MET1', 2205]\n",
            "[0.82, 'EGFR', 1567]\n",
            "[0.87, 'BRCA1', 2323]\n"
          ]
        }
      ],
      "source": [
        "gene_confs = [[0.92, 'MET1', 2205], [0.82, 'EGFR', 1567], [0.93, 'KRAS', 6523], [0.4, 'TP53', 5002], [0.94, 'ROS5', 1999], [0.87, 'BRCA1', 2323]]\n",
        "\n",
        "print(gene_confs[0])\n",
        "print(gene_confs[1])\n",
        "print(gene_confs[-1])"
      ]
    },
    {
      "cell_type": "markdown",
      "metadata": {
        "id": "mjd8a-nJSwUb"
      },
      "source": [
        "We can access individual elements of the annotation table using two indices by combining square bracket indexing like with a normal list"
      ]
    },
    {
      "cell_type": "code",
      "execution_count": null,
      "metadata": {
        "colab": {
          "base_uri": "https://localhost:8080/"
        },
        "id": "y80yavPgVvQm",
        "outputId": "42530ce9-7525-48e8-80bc-8fc4d41a71da"
      },
      "outputs": [
        {
          "name": "stdout",
          "output_type": "stream",
          "text": [
            "EGFR\n",
            "0.4\n",
            "2323\n",
            "2323\n"
          ]
        }
      ],
      "source": [
        "# Try and find the each of these outputs in the gene_confs list\n",
        "print(gene_confs[1][1])\n",
        "print(gene_confs[3][0])\n",
        "print(gene_confs[5][2])\n",
        "print(gene_confs[-1][-1])"
      ]
    },
    {
      "cell_type": "markdown",
      "metadata": {
        "id": "IN0PIuhlZvKG"
      },
      "source": [
        "We can then also add, remove, or sort the list just the same way as if it was a single list. Sort will work on just the first element in each sublist (there are more complex methods to sort on other elements, for later in the course!)\n",
        "\n",
        "One thing to note: There are two sort-related approaches. the ```.sort()``` method changes the list you already have, however ```sorted(list)``` will create a new list."
      ]
    },
    {
      "cell_type": "code",
      "execution_count": null,
      "metadata": {
        "id": "BsWEC5_lSwUb"
      },
      "outputs": [],
      "source": [
        "# A reminder on functions/methods. Here we have a list but it is the same for strings or numbers\n",
        "my_data = [\"A\", \"B\", \"C\"]\n",
        "\n",
        "# Method format modifies the object\n",
        "my_data.method()\n",
        "\n",
        "# Function format uses the object and outputs something new\n",
        "new_data = function(my_data)"
      ]
    },
    {
      "cell_type": "code",
      "execution_count": 2,
      "metadata": {
        "colab": {
          "base_uri": "https://localhost:8080/"
        },
        "id": "tOUm5LI7zEsQ",
        "outputId": "3382beec-c870-4ac2-8d02-ec494b39636e"
      },
      "outputs": [
        {
          "output_type": "stream",
          "name": "stdout",
          "text": [
            "gene_confs list:\t [[0.92, 'MET1', 2205], [0.82, 'EGFR', 1567], [0.93, 'KRAS', 6523], [0.4, 'TP53', 5002], [0.94, 'ROS5', 1999], [0.87, 'BRCA1', 2323]]\n",
            "new gene_confs list:\t [[0.4, 'TP53', 5002], [0.82, 'EGFR', 1567], [0.87, 'BRCA1', 2323], [0.92, 'MET1', 2205], [0.93, 'KRAS', 6523], [0.94, 'ROS5', 1999]]\n",
            "gene_confs list:\t [[0.94, 'ROS5', 1999], [0.93, 'KRAS', 6523], [0.92, 'MET1', 2205], [0.87, 'BRCA1', 2323], [0.82, 'EGFR', 1567], [0.4, 'TP53', 5002]]\n"
          ]
        }
      ],
      "source": [
        "gene_confs = [[0.92, 'MET1', 2205], [0.82, 'EGFR', 1567], [0.93, 'KRAS', 6523], [0.4, 'TP53', 5002], [0.94, 'ROS5', 1999], [0.87, 'BRCA1', 2323]]\n",
        "\n",
        "# Sort function\n",
        "new_list = sorted(gene_confs)\n",
        "# Now we have two lists\n",
        "print(\"gene_confs list:\\t\", gene_confs)\n",
        "print(\"new gene_confs list:\\t\", new_list)\n",
        "\n",
        "# Sort method - Here we just modify the first list\n",
        "gene_confs.sort(reverse = True)\n",
        "# Printing the original list is now different\n",
        "print(\"gene_confs list:\\t\", gene_confs)"
      ]
    },
    {
      "cell_type": "markdown",
      "metadata": {
        "id": "tWtcaTq6aOzg"
      },
      "source": [
        "**Extension:**\n",
        "\n",
        "There is also a method named ```zip``` which can combine lists into an array. Incredibly useful!\n",
        "\n",
        "We will see it later in more complex examples but works simply like this:"
      ]
    },
    {
      "cell_type": "code",
      "execution_count": 3,
      "metadata": {
        "colab": {
          "base_uri": "https://localhost:8080/"
        },
        "id": "epyWZLAGasNA",
        "outputId": "5c3f23f8-1b7c-43b6-9493-a0c9d9bbd2de"
      },
      "outputs": [
        {
          "output_type": "stream",
          "name": "stdout",
          "text": [
            "<zip object at 0x7c3a65361940>\n",
            "[('A', 24), ('T', 17), ('C', 73), ('G', 26)]\n"
          ]
        }
      ],
      "source": [
        "bases = [\"A\", \"T\", \"C\", \"G\"]\n",
        "count = [24, 17, 73, 26]\n",
        "\n",
        "combined_base_count = zip(bases, count)\n",
        "\n",
        "print(combined_base_count)\n",
        "print(list(combined_base_count))"
      ]
    },
    {
      "cell_type": "markdown",
      "metadata": {
        "id": "k4B5OynX93p9"
      },
      "source": [
        "Note that it creates tuples, not a list, and also the requirement to force a ```list``` object to make it print.\n",
        "\n",
        "You can also unzip in reverse, splitting a 2D list into two lists using the ```*``` on the 2d list:"
      ]
    },
    {
      "cell_type": "code",
      "execution_count": 4,
      "metadata": {
        "colab": {
          "base_uri": "https://localhost:8080/"
        },
        "id": "TWeRorxK9-Jd",
        "outputId": "69dfb7ac-bbb5-44d1-8c01-a5bf2a10c6ae"
      },
      "outputs": [
        {
          "output_type": "stream",
          "name": "stdout",
          "text": [
            "('WT', 'Mut1', 'Mut2', 'Mut3')\n",
            "(98, 76, 86, 79)\n"
          ]
        }
      ],
      "source": [
        "line_exp = [(\"WT\", 98), (\"Mut1\", 76), (\"Mut2\", 86), (\"Mut3\", 79)]\n",
        "\n",
        "line, exp = zip(*line_exp)\n",
        "\n",
        "print(line)\n",
        "print(exp)\n"
      ]
    },
    {
      "cell_type": "markdown",
      "metadata": {
        "id": "21ou3cQMXQj-"
      },
      "source": [
        "### Exercise: Manipulating 2D lists\n",
        "\n",
        "Here we have a list of genes with three values: confidence score, geneID, and gene length\n",
        "\n",
        "1. Sort the gene list by confidence value\n",
        "2. Create a new variable named ```highest``` which contains the gene ID of the list with the highest confidence value and print it\n",
        "3. We have new data! Add two new elements to the list:\n",
        "        ```[0.97, APC1 , 4287]``` and  ```[0.72, COI, 1660]```\n",
        "(there are several ways to do this! You could look back at the joining list section for a refresh)\n",
        "4. Put the three genes with the lowest confidence into a new list named ```low_conf_genes``` and print it.\n",
        "\n",
        "**Extension:** 5. Add a new element into the gene_confs list for the low confidence genes so that they have a 4th element saying ```RETEST```\n",
        "\n",
        "Note: If you have done some programming before you may notice that in several of these examples there are better and quicker ways to achieve the steps by using loops and conditionals. We will cover this in the next session but for now, use the commands we've learned\n"
      ]
    },
    {
      "cell_type": "code",
      "execution_count": 30,
      "metadata": {
        "id": "PF0FvjEqeaZ2",
        "colab": {
          "base_uri": "https://localhost:8080/"
        },
        "outputId": "7f14a85e-aea7-4b06-b397-1c928322310c"
      },
      "outputs": [
        {
          "output_type": "stream",
          "name": "stdout",
          "text": [
            "[[0.4, 'TP53', 5002], [0.82, 'EGFR', 1567], [0.87, 'BRCA1', 2323], [0.92, 'MET1', 2205], [0.93, 'KRAS', 6523], [0.94, 'ROS5', 1999]]\n",
            "The gene with highest confidence is ROS5 \n",
            " HIGH SCORE!\n",
            "[[0.4, 'TP53', 5002], [0.72, 'COI', 1660], [0.82, 'EGFR', 1567], [0.87, 'BRCA1', 2323], [0.92, 'MET1', 2205], [0.93, 'KRAS', 6523], [0.94, 'ROS5', 1999], [0.97, 'APC1', 4287]]\n",
            "The genes with lowest confidence (from the new longer list) are TP53 COI EGFR \n",
            " LOW SCORE!\n",
            "The genes with lowest confidence (from the new longer list) are [[0.4, 'TP53', 5002], [0.72, 'COI', 1660], [0.82, 'EGFR', 1567]] \n",
            " LOW SCORE!\n"
          ]
        }
      ],
      "source": [
        "gene_confs = [[0.92, 'MET1', 2205], [0.82, 'EGFR', 1567], [0.93, 'KRAS', 6523], [0.4, 'TP53', 5002], [0.94, 'ROS5', 1999], [0.87, 'BRCA1', 2323]]\n",
        "\n",
        "# Sort function\n",
        "sorted_list = sorted(gene_confs)\n",
        "print(sorted_list)\n",
        "\n",
        "#find highest\n",
        "highest_gene = sorted_list[-1][1]\n",
        "print(\"The gene with highest confidence is\", highest_gene, \"\\n HIGH SCORE!\")\n",
        "\n",
        "#add\n",
        "\n",
        "gene_confs.append( [0.97, \"APC1\" , 4287] )\n",
        "gene_confs.append( [0.72, \"COI\", 1660] )\n",
        "\n",
        "new_sorted_list = sorted(gene_confs)\n",
        "print (new_sorted_list)\n",
        "\n",
        "#find lowest\n",
        "lowest_gene = new_sorted_list[0][1]\n",
        "lowest_gene2 = new_sorted_list[1][1]\n",
        "lowest_gene3 = new_sorted_list[2][1]\n",
        "print(\"The genes with lowest confidence (from the new longer list) are\", lowest_gene, lowest_gene2, lowest_gene3, \"\\n LOW SCORE!\")\n",
        "\n",
        "#find lowest(one step)\n",
        "lowest_genes = new_sorted_list[0:3]\n",
        "\n",
        "print(\"The genes with lowest confidence (from the new longer list) are\", lowest_genes, \"\\n LOW SCORE!\")\n",
        "\n",
        "#needs a loop to pull out seond value (gene name) in each of those."
      ]
    },
    {
      "cell_type": "code",
      "source": [
        "\n"
      ],
      "metadata": {
        "id": "bRQdddoh0qXn"
      },
      "execution_count": 16,
      "outputs": []
    },
    {
      "cell_type": "code",
      "source": [],
      "metadata": {
        "id": "5YdVcYhL0LhB"
      },
      "execution_count": 16,
      "outputs": []
    }
  ],
  "metadata": {
    "colab": {
      "provenance": [],
      "toc_visible": true
    },
    "kernelspec": {
      "display_name": "Python 3",
      "name": "python3"
    },
    "language_info": {
      "codemirror_mode": {
        "name": "ipython",
        "version": 3
      },
      "file_extension": ".py",
      "mimetype": "text/x-python",
      "name": "python",
      "nbconvert_exporter": "python",
      "pygments_lexer": "ipython3",
      "version": "3.11.5"
    }
  },
  "nbformat": 4,
  "nbformat_minor": 0
}