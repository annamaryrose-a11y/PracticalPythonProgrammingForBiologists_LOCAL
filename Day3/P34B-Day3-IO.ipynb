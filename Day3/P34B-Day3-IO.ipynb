{
  "cells": [
    {
      "cell_type": "markdown",
      "metadata": {
        "id": "QfYvI-_yE10I"
      },
      "source": [
        "# Practical Python Programming for Biologists\n",
        "Author: Dr. Daniel Pass | www.CompassBioinformatics.com\n",
        "\n",
        "---\n",
        "\n",
        "This session we will look at reading to and from files. Often not as important with beginners coding courses, but biological data is pretty typically depending on lots of large files being read in so lets find out how.\n",
        "\n",
        "Note: You will need to add the Classdata files to the colab runtime to access them, or if running on your own computer know the full path to where you have downloaded the files"
      ]
    },
    {
      "cell_type": "markdown",
      "metadata": {
        "id": "fEnty3q6ImKg"
      },
      "source": [
        "# Python I/O Handling\n",
        "\n",
        "In Python, input/output (I/O) handling is the process of reading data from external sources and writing data to external destinations. This is a fundamental aspect of programming especially in bioinformatics given the amount of data files we work with.\n",
        "\n",
        "## Reading a Text File\n",
        "\n",
        "One of the most regular I/O operations in Python is reading data from a file. In Python, we can read a text file using the `open()` function and the `read()` method. This will load the whole file into one variable.\n"
      ]
    },
    {
      "cell_type": "code",
      "execution_count": null,
      "metadata": {
        "id": "Ow-21O4gIl6g"
      },
      "outputs": [],
      "source": [
        "# Open the file in read mode\n",
        "with open('/content/CanisLupisCO1.fasta') as  inputFile:\n",
        "  # Read the contents of the file\n",
        "  data = inputFile.read()\n",
        "\n",
        "print(data)"
      ]
    },
    {
      "cell_type": "markdown",
      "metadata": {
        "id": "L4m8DaW-XbYv"
      },
      "source": [
        "An alternative is to read one line at a time as a temporary variable. This means the whole file isn't stored in memory (good for big files) but you don't have all the data available unless you add it to a variable."
      ]
    },
    {
      "cell_type": "code",
      "execution_count": null,
      "metadata": {
        "id": "9y_qiWm6XxIL"
      },
      "outputs": [],
      "source": [
        "count = 1\n",
        "\n",
        "with open('/content/CanisLupisCO1.fasta') as dogDNA:\n",
        "  for line in dogDNA.readlines():\n",
        "    print(\"This is line number\", count, \":\\t\", line.strip())\n",
        "    count +=1"
      ]
    },
    {
      "cell_type": "markdown",
      "metadata": {
        "id": "eiH5jnkZbv5U"
      },
      "source": [
        "Somthing a bit more complex now. Another useful python method is .startswith() to check if something.... starts with a character! Here we can use ```not``` so that it skips the first line because it begins with a ```>``` character.\n",
        "\n",
        "Also lets put the data from the file into a list so that we can refer to it later and do more testing"
      ]
    },
    {
      "cell_type": "code",
      "execution_count": null,
      "metadata": {
        "id": "RLG2ldwbbSH1"
      },
      "outputs": [],
      "source": [
        "my_lines = []\n",
        "\n",
        "with open('/content/CanisLupisCO1.fasta') as dogDNA:\n",
        "  for line in dogDNA.readlines():\n",
        "    if not line.startswith('>'):\n",
        "      my_lines.append(line.strip())\n",
        "\n",
        "for line in my_lines:\n",
        "  if line.count('T') > 25:\n",
        "    print(line)"
      ]
    },
    {
      "cell_type": "markdown",
      "metadata": {
        "id": "yL-uWFY7ZDMR"
      },
      "source": [
        "There is also the similarly named ```.readline()``` (notice it's singular, not plural). That will read just one line from the file at a time. This is powerful for extracting header or title lines without reading the whole file with a loop."
      ]
    },
    {
      "cell_type": "code",
      "execution_count": null,
      "metadata": {
        "id": "NH2cw6zeZVqZ"
      },
      "outputs": [],
      "source": [
        "with open('/content/CanisLupisCO1.fasta') as dogDNA:\n",
        "  header = dogDNA.readline()\n",
        "  print(header)"
      ]
    },
    {
      "cell_type": "markdown",
      "metadata": {
        "id": "khTul_LuLAw1"
      },
      "source": [
        "\n",
        "\n",
        "## Writing to a Text File\n",
        "\n",
        "We can of course also write data to a file in Python. Usually this will be more useful than just putting information onto the screen when working with big bioinformatic files.\n",
        "\n",
        "To write to a file, we need to open the file in write mode using the `open()` function and use the `write()` method to choose what to output.\n",
        "\n",
        "Note: The only change in the ```open()``` function is the second parameter of 'w'. We didn't need a second parameter when reading as 'r' is the default.\n"
      ]
    },
    {
      "cell_type": "code",
      "execution_count": null,
      "metadata": {
        "id": "Kipb30gME0Pm"
      },
      "outputs": [],
      "source": [
        "# Open the file in write mode\n",
        "with open('declaration.txt', 'w') as output_file:\n",
        "  output_file.write('Hello, world! Python <3 Bioinformatics!')"
      ]
    },
    {
      "cell_type": "markdown",
      "metadata": {
        "id": "Q8k6UGNFrdA4"
      },
      "source": [
        "Check the file that you just created!"
      ]
    },
    {
      "cell_type": "markdown",
      "metadata": {
        "id": "9fhInTrKLDEI"
      },
      "source": [
        "\n",
        "## Appending to a Text File\n",
        "\n",
        "We can also append data to a file instead of destroying and creating a new file each time using the `open()` function in ***append*** mode and the `write()` method. Here is an example:"
      ]
    },
    {
      "cell_type": "code",
      "execution_count": null,
      "metadata": {
        "id": "JdHXC4A1K7TZ"
      },
      "outputs": [],
      "source": [
        "# Open the file in append mode\n",
        "with open('declaration.txt', 'a') as outputFile:\n",
        "  # Append to the file\n",
        "  outputFile.write('\\nand again.')\n",
        "  outputFile.write('\\nand again..')\n",
        "  outputFile.write('\\nand again...')\n"
      ]
    },
    {
      "cell_type": "markdown",
      "metadata": {
        "id": "AH0He18CLUrA"
      },
      "source": [
        "## In closing...\n",
        "In Python, it is important to close a file after reading from or writing to it. In the olden days of a few years ago we would use the `close()` method in python, but now it is recommended to use the ```with``` manager for more simple and readable code. I'm mostly including this here in case you see or use older code that uses the previous format.\n",
        "\n",
        "Basically, because you're interacting with files outside of python it needs to be told when you're finished, for a few reasons:\n",
        "\n",
        "1. Memory management: When a file is opened in Python, the operating system allocates memory to store the data read/written from/to a file. If the file is not closed properly, the memory used by the file remains allocated which can cause performance issues or crash the program.\n",
        "\n",
        "2. Data corruption: If a file is not closed properly, any data that has not been written to the file may be lost (think of a USB unplugged too soon). This can result in corrupted or incomplete data, which can cause issues when the data is later read or used.\n",
        "\n",
        "3. Resource management: When a file is opened, it is locked by the operating system to prevent other processes from modifying it. If a file is not closed properly, it remains locked, preventing other processes from accessing or modifying the file. This can cause issues if the file is needed by another program or process.\n",
        "\n",
        "To summarise, always close the file! But if you're using ```with```, then it's automatic."
      ]
    },
    {
      "cell_type": "markdown",
      "metadata": {
        "id": "uRKorAgxMr2I"
      },
      "source": [
        "## Exercises\n",
        "\n",
        "1. Read in the ```am181037.embl``` file and put all lines into a list\n",
        "2. Modify your code to only keep lines that do not begin with empty whitespace or the ```FT``` tag, and have them put into the list\n",
        "3. Write a new file with just the gene descriptions in (The lines that begin with ```KW```).\n",
        "\n",
        "Extension: Include the number of genes in the filename - Can this be done automatically?"
      ]
    },
    {
      "cell_type": "code",
      "execution_count": 11,
      "metadata": {
        "id": "N4rDYuMJMWPA",
        "outputId": "cc0c1dc1-0e80-4b9c-ba66-8853f969f823",
        "colab": {
          "base_uri": "https://localhost:8080/"
        }
      },
      "outputs": [
        {
          "output_type": "stream",
          "name": "stdout",
          "text": [
            "['KW   12S ribosomal RNA; 12S rRNA gene; 16S ribosomal RNA; 16S rRNA gene;\\n', 'KW   ATPase 6 gene; ATPase 8 gene; ATPase subunit 6; ATPase subunit 8; COI gene;\\n', 'KW   COII gene; COIII gene; complete genome; control region; cytb gene;\\n', 'KW   cytochrome b; cytochrome oxidase subunit I; cytochrome oxidase subunit II;\\n', 'KW   cytochrome oxidase subunit III; NADH dehydrogenase subunit 1;\\n', 'KW   NADH dehydrogenase subunit 2; NADH dehydrogenase subunit 3;\\n', 'KW   NADH dehydrogenase subunit 4; NADH dehydrogenase subunit 4L;\\n', 'KW   NADH dehydrogenase subunit 5; NADH dehydrogenase subunit 6; NADH1 gene;\\n', 'KW   NADH2 gene; NADH3 gene; NADH4 gene; NADH4L gene; NADH5 gene; NADH6 gene;\\n', 'KW   transfer RNA-Ala; transfer RNA-Arg; transfer RNA-Asn; transfer RNA-Asp;\\n', 'KW   transfer RNA-Cys; transfer RNA-Gln; transfer RNA-Glu; transfer RNA-Gly;\\n', 'KW   transfer RNA-His; transfer RNA-Ile; transfer RNA-Leu(CUN);\\n', 'KW   transfer RNA-Leu(UUR); transfer RNA-Lys; transfer RNA-Met;\\n', 'KW   transfer RNA-Phe; transfer RNA-Pro; transfer RNA-Ser(AGY);\\n', 'KW   transfer RNA-Ser(UCN); transfer RNA-Thr; transfer RNA-Trp;\\n', 'KW   transfer RNA-Tyr; transfer RNA-Val; tRNA-Ala gene; tRNA-Arg gene;\\n', 'KW   tRNA-Asn gene; tRNA-Asp gene; tRNA-Cys gene; tRNA-Gln gene; tRNA-Glu gene;\\n', 'KW   tRNA-Gly gene; tRNA-His gene; tRNA-Ile gene; tRNA-Leu(CUN) gene;\\n', 'KW   tRNA-Leu(UUR) gene; tRNA-Lys gene; tRNA-Met gene; tRNA-Phe gene;\\n', 'KW   tRNA-Pro gene; tRNA-Ser(AGY) gene; tRNA-Ser(UCN) gene; tRNA-Thr gene;\\n', 'KW   tRNA-Trp gene; tRNA-Tyr gene; tRNA-Val gene.\\n']\n"
          ]
        }
      ],
      "source": [
        "my_lines = []\n",
        "\n",
        "with open('/content/am181037.embl') as embl_file:\n",
        "  for line in embl_file.readlines():\n",
        "    if not line.startswith(' ') and not line.startswith('FT'):\n",
        "      my_lines.append(line)\n",
        "\n",
        "#print(my_lines)\n",
        "\n",
        "my_kw_lines = []\n",
        "\n",
        "with open('/content/am181037.embl') as embl_file:\n",
        "  for line in embl_file.readlines():\n",
        "    if line.startswith('KW') :\n",
        "      my_kw_lines.append(line)\n",
        "\n",
        "print(my_kw_lines)\n",
        "\n",
        "# write new file (as list)\n",
        "\n",
        "#with open('KW_lines.txt', 'w') as output_file:\n",
        "  #output_file.write(str(my_kw_lines))\n",
        "\n",
        "# write new file with better formatting\n",
        "\n",
        "with open('KW_lines_cleaner.txt', 'w') as output_file_2:\n",
        "    for line in my_kw_lines:\n",
        "      output_file_2.write(line)"
      ]
    },
    {
      "cell_type": "code",
      "source": [],
      "metadata": {
        "id": "wOpFO7H2iQv-"
      },
      "execution_count": null,
      "outputs": []
    }
  ],
  "metadata": {
    "colab": {
      "provenance": []
    },
    "kernelspec": {
      "display_name": "Python 3",
      "name": "python3"
    },
    "language_info": {
      "codemirror_mode": {
        "name": "ipython",
        "version": 3
      },
      "file_extension": ".py",
      "mimetype": "text/x-python",
      "name": "python",
      "nbconvert_exporter": "python",
      "pygments_lexer": "ipython3",
      "version": "3.11.5"
    }
  },
  "nbformat": 4,
  "nbformat_minor": 0
}